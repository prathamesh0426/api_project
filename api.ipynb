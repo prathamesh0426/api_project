{
 "cells": [
  {
   "cell_type": "markdown",
   "id": "9361814b",
   "metadata": {},
   "source": [
    "# API Requests - Stock Market data\n",
    "Alpha Vantage API - https://rapidapi.com/alphavantage/api/alpha-vantage"
   ]
  },
  {
   "cell_type": "markdown",
   "id": "a00c6436",
   "metadata": {},
   "source": [
    "# Load the api key in python variable"
   ]
  },
  {
   "cell_type": "code",
   "execution_count": 21,
   "id": "cd736565",
   "metadata": {},
   "outputs": [],
   "source": [
    "import streamlit as st\n",
    "\n",
    "api_key = st.secrets[\"API_KEY\"]"
   ]
  },
  {
   "cell_type": "markdown",
   "id": "a4a23fa5",
   "metadata": {},
   "source": [
    "# Symbol Search"
   ]
  },
  {
   "cell_type": "code",
   "execution_count": 22,
   "id": "d1ca7bf0",
   "metadata": {},
   "outputs": [
    {
     "name": "stdout",
     "output_type": "stream",
     "text": [
      "{'bestMatches': [{'1. symbol': 'SBIN.BSE', '2. name': 'State Bank of India', '3. type': 'Equity', '4. region': 'India/Bombay', '5. marketOpen': '09:15', '6. marketClose': '15:30', '7. timezone': 'UTC+5.5', '8. currency': 'INR', '9. matchScore': '1.0000'}, {'1. symbol': 'SBKFF', '2. name': 'State Bank of India', '3. type': 'Equity', '4. region': 'United States', '5. marketOpen': '09:30', '6. marketClose': '16:00', '7. timezone': 'UTC-04', '8. currency': 'USD', '9. matchScore': '1.0000'}, {'1. symbol': 'SID.FRK', '2. name': 'State Bank of India', '3. type': 'Equity', '4. region': 'Frankfurt', '5. marketOpen': '08:00', '6. marketClose': '20:00', '7. timezone': 'UTC+02', '8. currency': 'EUR', '9. matchScore': '1.0000'}, {'1. symbol': 'SBID.LON', '2. name': 'State Bank of India GDR', '3. type': 'Equity', '4. region': 'United Kingdom', '5. marketOpen': '08:00', '6. marketClose': '16:30', '7. timezone': 'UTC+01', '8. currency': 'USD', '9. matchScore': '0.9048'}]}\n"
     ]
    }
   ],
   "source": [
    "import requests\n",
    "\n",
    "url = \"https://alpha-vantage.p.rapidapi.com/query\"\n",
    "\n",
    "company = \"State Bank of India\"\n",
    "\n",
    "querystring = {\"datatype\": \"json\", \"keywords\": company, \"function\": \"SYMBOL_SEARCH\"}\n",
    "\n",
    "headers = {\n",
    "    \"x-rapidapi-key\": st.secrets[\"API_KEY\"],\n",
    "    \"x-rapidapi-host\": \"alpha-vantage.p.rapidapi.com\",\n",
    "}\n",
    "\n",
    "response = requests.get(url, headers=headers, params=querystring)\n",
    "\n",
    "print(response.json())"
   ]
  },
  {
   "cell_type": "code",
   "execution_count": 23,
   "id": "996edac1",
   "metadata": {},
   "outputs": [
    {
     "data": {
      "text/html": [
       "<div>\n",
       "<style scoped>\n",
       "    .dataframe tbody tr th:only-of-type {\n",
       "        vertical-align: middle;\n",
       "    }\n",
       "\n",
       "    .dataframe tbody tr th {\n",
       "        vertical-align: top;\n",
       "    }\n",
       "\n",
       "    .dataframe thead th {\n",
       "        text-align: right;\n",
       "    }\n",
       "</style>\n",
       "<table border=\"1\" class=\"dataframe\">\n",
       "  <thead>\n",
       "    <tr style=\"text-align: right;\">\n",
       "      <th></th>\n",
       "      <th>1. symbol</th>\n",
       "      <th>2. name</th>\n",
       "      <th>3. type</th>\n",
       "      <th>4. region</th>\n",
       "      <th>5. marketOpen</th>\n",
       "      <th>6. marketClose</th>\n",
       "      <th>7. timezone</th>\n",
       "      <th>8. currency</th>\n",
       "      <th>9. matchScore</th>\n",
       "    </tr>\n",
       "  </thead>\n",
       "  <tbody>\n",
       "    <tr>\n",
       "      <th>0</th>\n",
       "      <td>SBIN.BSE</td>\n",
       "      <td>State Bank of India</td>\n",
       "      <td>Equity</td>\n",
       "      <td>India/Bombay</td>\n",
       "      <td>09:15</td>\n",
       "      <td>15:30</td>\n",
       "      <td>UTC+5.5</td>\n",
       "      <td>INR</td>\n",
       "      <td>1.0000</td>\n",
       "    </tr>\n",
       "    <tr>\n",
       "      <th>1</th>\n",
       "      <td>SBKFF</td>\n",
       "      <td>State Bank of India</td>\n",
       "      <td>Equity</td>\n",
       "      <td>United States</td>\n",
       "      <td>09:30</td>\n",
       "      <td>16:00</td>\n",
       "      <td>UTC-04</td>\n",
       "      <td>USD</td>\n",
       "      <td>1.0000</td>\n",
       "    </tr>\n",
       "    <tr>\n",
       "      <th>2</th>\n",
       "      <td>SID.FRK</td>\n",
       "      <td>State Bank of India</td>\n",
       "      <td>Equity</td>\n",
       "      <td>Frankfurt</td>\n",
       "      <td>08:00</td>\n",
       "      <td>20:00</td>\n",
       "      <td>UTC+02</td>\n",
       "      <td>EUR</td>\n",
       "      <td>1.0000</td>\n",
       "    </tr>\n",
       "    <tr>\n",
       "      <th>3</th>\n",
       "      <td>SBID.LON</td>\n",
       "      <td>State Bank of India GDR</td>\n",
       "      <td>Equity</td>\n",
       "      <td>United Kingdom</td>\n",
       "      <td>08:00</td>\n",
       "      <td>16:30</td>\n",
       "      <td>UTC+01</td>\n",
       "      <td>USD</td>\n",
       "      <td>0.9048</td>\n",
       "    </tr>\n",
       "  </tbody>\n",
       "</table>\n",
       "</div>"
      ],
      "text/plain": [
       "  1. symbol                  2. name 3. type       4. region 5. marketOpen  \\\n",
       "0  SBIN.BSE      State Bank of India  Equity    India/Bombay         09:15   \n",
       "1     SBKFF      State Bank of India  Equity   United States         09:30   \n",
       "2   SID.FRK      State Bank of India  Equity       Frankfurt         08:00   \n",
       "3  SBID.LON  State Bank of India GDR  Equity  United Kingdom         08:00   \n",
       "\n",
       "  6. marketClose 7. timezone 8. currency 9. matchScore  \n",
       "0          15:30     UTC+5.5         INR        1.0000  \n",
       "1          16:00      UTC-04         USD        1.0000  \n",
       "2          20:00      UTC+02         EUR        1.0000  \n",
       "3          16:30      UTC+01         USD        0.9048  "
      ]
     },
     "execution_count": 23,
     "metadata": {},
     "output_type": "execute_result"
    }
   ],
   "source": [
    "import pandas as pd\n",
    "\n",
    "data = response.json()[\"bestMatches\"]\n",
    "search = pd.DataFrame(data)\n",
    "search"
   ]
  },
  {
   "cell_type": "markdown",
   "id": "ef8640af",
   "metadata": {},
   "source": [
    "# Daily stock data for SBIN.BSE"
   ]
  },
  {
   "cell_type": "code",
   "execution_count": 24,
   "id": "bfcf7136",
   "metadata": {},
   "outputs": [
    {
     "name": "stdout",
     "output_type": "stream",
     "text": [
      "{'Meta Data': {'1. Information': 'Daily Prices (open, high, low, close) and Volumes', '2. Symbol': 'SBIN.BSE', '3. Last Refreshed': '2025-09-19', '4. Output Size': 'Compact', '5. Time Zone': 'US/Eastern'}, 'Time Series (Daily)': {'2025-09-19': {'1. open': '852.5000', '2. high': '863.5000', '3. low': '849.0500', '4. close': '862.2500', '5. volume': '552336'}, '2025-09-18': {'1. open': '856.7000', '2. high': '860.9000', '3. low': '851.0500', '4. close': '854.4500', '5. volume': '719272'}, '2025-09-17': {'1. open': '833.2500', '2. high': '858.0000', '3. low': '831.0000', '4. close': '856.9500', '5. volume': '1807341'}, '2025-09-16': {'1. open': '823.4000', '2. high': '833.0000', '3. low': '821.6000', '4. close': '831.8000', '5. volume': '368364'}, '2025-09-15': {'1. open': '823.3000', '2. high': '828.0000', '3. low': '821.4000', '4. close': '824.9000', '5. volume': '139666'}, '2025-09-12': {'1. open': '824.9000', '2. high': '825.3500', '3. low': '819.9000', '4. close': '823.3000', '5. volume': '297096'}, '2025-09-11': {'1. open': '816.2500', '2. high': '825.5000', '3. low': '816.2500', '4. close': '823.8000', '5. volume': '1044344'}, '2025-09-10': {'1. open': '811.2000', '2. high': '824.5000', '3. low': '810.2000', '4. close': '818.3000', '5. volume': '489810'}, '2025-09-09': {'1. open': '810.3500', '2. high': '812.4500', '3. low': '805.4000', '4. close': '808.9500', '5. volume': '170532'}, '2025-09-08': {'1. open': '807.1000', '2. high': '813.5000', '3. low': '807.1000', '4. close': '809.0000', '5. volume': '268859'}, '2025-09-05': {'1. open': '811.9000', '2. high': '812.2000', '3. low': '803.6000', '4. close': '806.9500', '5. volume': '272131'}, '2025-09-04': {'1. open': '816.7500', '2. high': '816.7500', '3. low': '807.8500', '4. close': '809.3500', '5. volume': '619504'}, '2025-09-03': {'1. open': '805.0000', '2. high': '813.2000', '3. low': '803.1000', '4. close': '812.1500', '5. volume': '187814'}, '2025-09-02': {'1. open': '809.9000', '2. high': '810.5000', '3. low': '802.9000', '4. close': '803.9500', '5. volume': '119021'}, '2025-09-01': {'1. open': '802.6500', '2. high': '808.2500', '3. low': '802.6500', '4. close': '805.9000', '5. volume': '164286'}, '2025-08-29': {'1. open': '802.0000', '2. high': '807.0000', '3. low': '798.6000', '4. close': '802.3500', '5. volume': '520632'}, '2025-08-28': {'1. open': '807.8000', '2. high': '810.6000', '3. low': '800.7000', '4. close': '802.0500', '5. volume': '146716'}, '2025-08-26': {'1. open': '815.8000', '2. high': '815.8000', '3. low': '806.5500', '4. close': '807.8000', '5. volume': '677825'}, '2025-08-25': {'1. open': '817.0000', '2. high': '820.4500', '3. low': '814.0000', '4. close': '815.5000', '5. volume': '373280'}, '2025-08-22': {'1. open': '825.5000', '2. high': '825.9500', '3. low': '815.5500', '4. close': '816.1000', '5. volume': '158755'}, '2025-08-21': {'1. open': '828.8000', '2. high': '833.4500', '3. low': '824.5000', '4. close': '825.5500', '5. volume': '138694'}, '2025-08-20': {'1. open': '829.8000', '2. high': '831.5000', '3. low': '826.9500', '4. close': '828.8000', '5. volume': '156440'}, '2025-08-19': {'1. open': '827.6500', '2. high': '831.2500', '3. low': '825.8500', '4. close': '830.3500', '5. volume': '289674'}, '2025-08-18': {'1. open': '831.3500', '2. high': '835.2000', '3. low': '825.3000', '4. close': '827.0000', '5. volume': '435823'}, '2025-08-14': {'1. open': '821.8500', '2. high': '828.0000', '3. low': '819.2000', '4. close': '826.7000', '5. volume': '492882'}, '2025-08-13': {'1. open': '823.4500', '2. high': '824.9000', '3. low': '820.5500', '4. close': '822.1500', '5. volume': '847012'}, '2025-08-12': {'1. open': '824.3000', '2. high': '825.6000', '3. low': '820.0000', '4. close': '820.5500', '5. volume': '784250'}, '2025-08-11': {'1. open': '807.0000', '2. high': '824.9500', '3. low': '807.0000', '4. close': '824.3000', '5. volume': '1141997'}, '2025-08-08': {'1. open': '805.0000', '2. high': '807.9500', '3. low': '790.1000', '4. close': '804.5500', '5. volume': '621304'}, '2025-08-07': {'1. open': '801.1000', '2. high': '806.5000', '3. low': '793.3000', '4. close': '805.2500', '5. volume': '188248'}, '2025-08-06': {'1. open': '801.0000', '2. high': '810.0000', '3. low': '799.0000', '4. close': '805.1500', '5. volume': '376366'}, '2025-08-05': {'1. open': '795.6500', '2. high': '803.6500', '3. low': '795.6500', '4. close': '800.7000', '5. volume': '512346'}, '2025-08-04': {'1. open': '795.0000', '2. high': '797.4500', '3. low': '786.5500', '4. close': '795.6500', '5. volume': '193850'}, '2025-08-01': {'1. open': '796.5000', '2. high': '800.7500', '3. low': '791.9500', '4. close': '793.9500', '5. volume': '234321'}, '2025-07-31': {'1. open': '796.6500', '2. high': '803.6000', '3. low': '792.4500', '4. close': '796.4500', '5. volume': '378571'}, '2025-07-30': {'1. open': '799.8500', '2. high': '803.4000', '3. low': '796.2500', '4. close': '801.8500', '5. volume': '154363'}, '2025-07-29': {'1. open': '795.3500', '2. high': '800.2000', '3. low': '793.1000', '4. close': '798.9000', '5. volume': '330118'}, '2025-07-28': {'1. open': '808.9500', '2. high': '809.2000', '3. low': '796.0000', '4. close': '797.1500', '5. volume': '389824'}, '2025-07-25': {'1. open': '814.3500', '2. high': '819.0000', '3. low': '805.5500', '4. close': '806.5000', '5. volume': '383923'}, '2025-07-24': {'1. open': '819.7500', '2. high': '821.9500', '3. low': '810.6500', '4. close': '815.8500', '5. volume': '323698'}, '2025-07-23': {'1. open': '815.2000', '2. high': '825.0000', '3. low': '811.4000', '4. close': '820.7500', '5. volume': '739975'}, '2025-07-22': {'1. open': '829.0000', '2. high': '829.0000', '3. low': '814.0000', '4. close': '815.0000', '5. volume': '174364'}, '2025-07-21': {'1. open': '823.5000', '2. high': '827.4000', '3. low': '817.9500', '4. close': '824.2000', '5. volume': '258166'}, '2025-07-18': {'1. open': '832.4000', '2. high': '832.4000', '3. low': '820.0500', '4. close': '823.3000', '5. volume': '256301'}, '2025-07-17': {'1. open': '839.0000', '2. high': '842.3000', '3. low': '826.1500', '4. close': '828.6000', '5. volume': '624129'}, '2025-07-16': {'1. open': '816.5000', '2. high': '834.0000', '3. low': '815.1500', '4. close': '831.5500', '5. volume': '1238621'}, '2025-07-15': {'1. open': '810.2000', '2. high': '821.0000', '3. low': '810.2000', '4. close': '816.7500', '5. volume': '460084'}, '2025-07-14': {'1. open': '810.4000', '2. high': '815.6000', '3. low': '808.0000', '4. close': '809.3000', '5. volume': '435542'}, '2025-07-11': {'1. open': '808.0000', '2. high': '812.6000', '3. low': '804.5000', '4. close': '808.5000', '5. volume': '227573'}, '2025-07-10': {'1. open': '812.0000', '2. high': '815.5000', '3. low': '807.0500', '4. close': '808.0000', '5. volume': '174968'}, '2025-07-09': {'1. open': '810.0000', '2. high': '812.2500', '3. low': '809.1000', '4. close': '810.8500', '5. volume': '176144'}, '2025-07-08': {'1. open': '808.9500', '2. high': '813.8500', '3. low': '805.5000', '4. close': '812.8000', '5. volume': '573527'}, '2025-07-07': {'1. open': '812.8000', '2. high': '812.8000', '3. low': '805.2000', '4. close': '806.9500', '5. volume': '116638'}, '2025-07-04': {'1. open': '810.2500', '2. high': '813.5000', '3. low': '804.2000', '4. close': '811.8500', '5. volume': '359322'}, '2025-07-03': {'1. open': '813.0000', '2. high': '815.0000', '3. low': '806.0000', '4. close': '807.1000', '5. volume': '429112'}, '2025-07-02': {'1. open': '820.7000', '2. high': '824.3500', '3. low': '809.1000', '4. close': '813.2000', '5. volume': '193280'}, '2025-07-01': {'1. open': '820.3500', '2. high': '824.9500', '3. low': '813.2500', '4. close': '820.2500', '5. volume': '633178'}, '2025-06-30': {'1. open': '808.9500', '2. high': '821.0000', '3. low': '807.0500', '4. close': '820.3500', '5. volume': '478069'}, '2025-06-27': {'1. open': '806.0000', '2. high': '809.5000', '3. low': '802.4000', '4. close': '805.4000', '5. volume': '477274'}, '2025-06-26': {'1. open': '802.7000', '2. high': '803.4500', '3. low': '791.5000', '4. close': '797.0000', '5. volume': '478368'}, '2025-06-25': {'1. open': '799.0000', '2. high': '805.0000', '3. low': '796.1000', '4. close': '800.1000', '5. volume': '197275'}, '2025-06-24': {'1. open': '798.5000', '2. high': '806.5000', '3. low': '793.6000', '4. close': '795.2500', '5. volume': '937612'}, '2025-06-23': {'1. open': '790.2000', '2. high': '794.6000', '3. low': '788.4500', '4. close': '790.1500', '5. volume': '212782'}, '2025-06-20': {'1. open': '787.9500', '2. high': '799.1000', '3. low': '786.3000', '4. close': '796.0000', '5. volume': '224991'}, '2025-06-19': {'1. open': '792.8500', '2. high': '793.2000', '3. low': '781.5000', '4. close': '784.7000', '5. volume': '235832'}, '2025-06-18': {'1. open': '792.1000', '2. high': '795.5000', '3. low': '788.3500', '4. close': '791.7500', '5. volume': '131579'}, '2025-06-17': {'1. open': '793.5000', '2. high': '798.8000', '3. low': '790.7500', '4. close': '792.2000', '5. volume': '1103108'}, '2025-06-16': {'1. open': '792.5500', '2. high': '795.3500', '3. low': '786.3500', '4. close': '792.8500', '5. volume': '1385709'}, '2025-06-13': {'1. open': '789.7500', '2. high': '796.2000', '3. low': '788.9000', '4. close': '792.4000', '5. volume': '362528'}, '2025-06-12': {'1. open': '816.0000', '2. high': '816.5500', '3. low': '801.2500', '4. close': '805.6500', '5. volume': '182058'}, '2025-06-11': {'1. open': '817.0500', '2. high': '820.6000', '3. low': '812.9000', '4. close': '814.9500', '5. volume': '183277'}, '2025-06-10': {'1. open': '821.9500', '2. high': '821.9500', '3. low': '814.6500', '4. close': '817.0500', '5. volume': '406292'}, '2025-06-09': {'1. open': '817.1000', '2. high': '824.4000', '3. low': '815.6000', '4. close': '820.0500', '5. volume': '432300'}, '2025-06-06': {'1. open': '806.1000', '2. high': '816.4500', '3. low': '802.9000', '4. close': '812.8500', '5. volume': '943903'}, '2025-06-05': {'1. open': '809.0000', '2. high': '811.9000', '3. low': '803.0000', '4. close': '806.1000', '5. volume': '319568'}, '2025-06-04': {'1. open': '815.1000', '2. high': '815.9500', '3. low': '805.0000', '4. close': '806.4500', '5. volume': '147931'}, '2025-06-03': {'1. open': '816.9000', '2. high': '817.9500', '3. low': '805.2000', '4. close': '809.7500', '5. volume': '1443812'}, '2025-06-02': {'1. open': '812.1000', '2. high': '822.5000', '3. low': '809.1000', '4. close': '813.4500', '5. volume': '1094058'}, '2025-05-30': {'1. open': '797.3500', '2. high': '814.3500', '3. low': '792.7500', '4. close': '812.4000', '5. volume': '510858'}, '2025-05-29': {'1. open': '797.1000', '2. high': '800.0000', '3. low': '791.4000', '4. close': '797.3000', '5. volume': '250346'}, '2025-05-28': {'1. open': '794.0000', '2. high': '798.8500', '3. low': '792.9000', '4. close': '796.4500', '5. volume': '282344'}, '2025-05-27': {'1. open': '794.1500', '2. high': '801.1500', '3. low': '789.7500', '4. close': '793.8000', '5. volume': '1122936'}, '2025-05-26': {'1. open': '791.4500', '2. high': '797.5500', '3. low': '789.3000', '4. close': '794.3500', '5. volume': '247585'}, '2025-05-23': {'1. open': '787.2000', '2. high': '794.8000', '3. low': '786.4000', '4. close': '790.4500', '5. volume': '456862'}, '2025-05-22': {'1. open': '788.9000', '2. high': '788.9000', '3. low': '780.6000', '4. close': '785.3500', '5. volume': '390333'}, '2025-05-21': {'1. open': '786.5000', '2. high': '790.7000', '3. low': '779.4000', '4. close': '787.2000', '5. volume': '260511'}, '2025-05-20': {'1. open': '798.2500', '2. high': '799.6500', '3. low': '784.0000', '4. close': '785.3500', '5. volume': '441739'}, '2025-05-19': {'1. open': '792.9500', '2. high': '801.3500', '3. low': '791.8500', '4. close': '794.9000', '5. volume': '508945'}, '2025-05-16': {'1. open': '804.8000', '2. high': '804.8000', '3. low': '790.6000', '4. close': '791.8500', '5. volume': '645169'}, '2025-05-15': {'1. open': '804.8500', '2. high': '809.5000', '3. low': '794.5500', '4. close': '807.7000', '5. volume': '904539'}, '2025-05-14': {'1. open': '805.2500', '2. high': '807.4500', '3. low': '796.5000', '4. close': '800.3500', '5. volume': '1139114'}, '2025-05-13': {'1. open': '800.4500', '2. high': '807.7000', '3. low': '797.2500', '4. close': '801.9000', '5. volume': '717454'}, '2025-05-12': {'1. open': '799.8500', '2. high': '803.9000', '3. low': '793.1000', '4. close': '801.6000', '5. volume': '829415'}, '2025-05-09': {'1. open': '755.2500', '2. high': '781.4000', '3. low': '755.2500', '4. close': '779.4000', '5. volume': '375997'}, '2025-05-08': {'1. open': '778.0000', '2. high': '786.5000', '3. low': '765.0000', '4. close': '768.7500', '5. volume': '463248'}, '2025-05-07': {'1. open': '762.2500', '2. high': '782.5500', '3. low': '762.2500', '4. close': '776.1500', '5. volume': '581175'}, '2025-05-06': {'1. open': '792.2000', '2. high': '799.0000', '3. low': '771.1500', '4. close': '774.1500', '5. volume': '761282'}, '2025-05-05': {'1. open': '784.9500', '2. high': '799.1000', '3. low': '783.6500', '4. close': '790.0000', '5. volume': '771587'}, '2025-05-02': {'1. open': '792.0500', '2. high': '802.9500', '3. low': '789.2500', '4. close': '800.0500', '5. volume': '335006'}, '2025-04-30': {'1. open': '812.8500', '2. high': '812.8500', '3. low': '784.4500', '4. close': '788.1500', '5. volume': '412886'}}}\n"
     ]
    }
   ],
   "source": [
    "import requests\n",
    "\n",
    "url = \"https://alpha-vantage.p.rapidapi.com/query\"\n",
    "\n",
    "symbol = \"SBIN.BSE\"\n",
    "\n",
    "querystring = {\n",
    "    \"function\": \"TIME_SERIES_DAILY\",\n",
    "    \"symbol\": symbol,\n",
    "    \"outputsize\": \"compact\",\n",
    "    \"datatype\": \"json\",\n",
    "}\n",
    "\n",
    "headers = {\n",
    "    \"x-rapidapi-key\": st.secrets[\"API_KEY\"],\n",
    "    \"x-rapidapi-host\": \"alpha-vantage.p.rapidapi.com\",\n",
    "}\n",
    "\n",
    "response = requests.get(url, headers=headers, params=querystring)\n",
    "\n",
    "print(response.json())"
   ]
  },
  {
   "cell_type": "code",
   "execution_count": 25,
   "id": "bcc2049f",
   "metadata": {},
   "outputs": [
    {
     "data": {
      "text/plain": [
       "dict_keys(['Meta Data', 'Time Series (Daily)'])"
      ]
     },
     "execution_count": 25,
     "metadata": {},
     "output_type": "execute_result"
    }
   ],
   "source": [
    "response.json().keys()"
   ]
  },
  {
   "cell_type": "code",
   "execution_count": 26,
   "id": "1528e5ba",
   "metadata": {},
   "outputs": [
    {
     "data": {
      "text/html": [
       "<div>\n",
       "<style scoped>\n",
       "    .dataframe tbody tr th:only-of-type {\n",
       "        vertical-align: middle;\n",
       "    }\n",
       "\n",
       "    .dataframe tbody tr th {\n",
       "        vertical-align: top;\n",
       "    }\n",
       "\n",
       "    .dataframe thead th {\n",
       "        text-align: right;\n",
       "    }\n",
       "</style>\n",
       "<table border=\"1\" class=\"dataframe\">\n",
       "  <thead>\n",
       "    <tr style=\"text-align: right;\">\n",
       "      <th></th>\n",
       "      <th>1. open</th>\n",
       "      <th>2. high</th>\n",
       "      <th>3. low</th>\n",
       "      <th>4. close</th>\n",
       "      <th>5. volume</th>\n",
       "    </tr>\n",
       "  </thead>\n",
       "  <tbody>\n",
       "    <tr>\n",
       "      <th>2025-09-19</th>\n",
       "      <td>852.5000</td>\n",
       "      <td>863.5000</td>\n",
       "      <td>849.0500</td>\n",
       "      <td>862.2500</td>\n",
       "      <td>552336</td>\n",
       "    </tr>\n",
       "    <tr>\n",
       "      <th>2025-09-18</th>\n",
       "      <td>856.7000</td>\n",
       "      <td>860.9000</td>\n",
       "      <td>851.0500</td>\n",
       "      <td>854.4500</td>\n",
       "      <td>719272</td>\n",
       "    </tr>\n",
       "    <tr>\n",
       "      <th>2025-09-17</th>\n",
       "      <td>833.2500</td>\n",
       "      <td>858.0000</td>\n",
       "      <td>831.0000</td>\n",
       "      <td>856.9500</td>\n",
       "      <td>1807341</td>\n",
       "    </tr>\n",
       "    <tr>\n",
       "      <th>2025-09-16</th>\n",
       "      <td>823.4000</td>\n",
       "      <td>833.0000</td>\n",
       "      <td>821.6000</td>\n",
       "      <td>831.8000</td>\n",
       "      <td>368364</td>\n",
       "    </tr>\n",
       "    <tr>\n",
       "      <th>2025-09-15</th>\n",
       "      <td>823.3000</td>\n",
       "      <td>828.0000</td>\n",
       "      <td>821.4000</td>\n",
       "      <td>824.9000</td>\n",
       "      <td>139666</td>\n",
       "    </tr>\n",
       "    <tr>\n",
       "      <th>...</th>\n",
       "      <td>...</td>\n",
       "      <td>...</td>\n",
       "      <td>...</td>\n",
       "      <td>...</td>\n",
       "      <td>...</td>\n",
       "    </tr>\n",
       "    <tr>\n",
       "      <th>2025-05-07</th>\n",
       "      <td>762.2500</td>\n",
       "      <td>782.5500</td>\n",
       "      <td>762.2500</td>\n",
       "      <td>776.1500</td>\n",
       "      <td>581175</td>\n",
       "    </tr>\n",
       "    <tr>\n",
       "      <th>2025-05-06</th>\n",
       "      <td>792.2000</td>\n",
       "      <td>799.0000</td>\n",
       "      <td>771.1500</td>\n",
       "      <td>774.1500</td>\n",
       "      <td>761282</td>\n",
       "    </tr>\n",
       "    <tr>\n",
       "      <th>2025-05-05</th>\n",
       "      <td>784.9500</td>\n",
       "      <td>799.1000</td>\n",
       "      <td>783.6500</td>\n",
       "      <td>790.0000</td>\n",
       "      <td>771587</td>\n",
       "    </tr>\n",
       "    <tr>\n",
       "      <th>2025-05-02</th>\n",
       "      <td>792.0500</td>\n",
       "      <td>802.9500</td>\n",
       "      <td>789.2500</td>\n",
       "      <td>800.0500</td>\n",
       "      <td>335006</td>\n",
       "    </tr>\n",
       "    <tr>\n",
       "      <th>2025-04-30</th>\n",
       "      <td>812.8500</td>\n",
       "      <td>812.8500</td>\n",
       "      <td>784.4500</td>\n",
       "      <td>788.1500</td>\n",
       "      <td>412886</td>\n",
       "    </tr>\n",
       "  </tbody>\n",
       "</table>\n",
       "<p>100 rows × 5 columns</p>\n",
       "</div>"
      ],
      "text/plain": [
       "             1. open   2. high    3. low  4. close 5. volume\n",
       "2025-09-19  852.5000  863.5000  849.0500  862.2500    552336\n",
       "2025-09-18  856.7000  860.9000  851.0500  854.4500    719272\n",
       "2025-09-17  833.2500  858.0000  831.0000  856.9500   1807341\n",
       "2025-09-16  823.4000  833.0000  821.6000  831.8000    368364\n",
       "2025-09-15  823.3000  828.0000  821.4000  824.9000    139666\n",
       "...              ...       ...       ...       ...       ...\n",
       "2025-05-07  762.2500  782.5500  762.2500  776.1500    581175\n",
       "2025-05-06  792.2000  799.0000  771.1500  774.1500    761282\n",
       "2025-05-05  784.9500  799.1000  783.6500  790.0000    771587\n",
       "2025-05-02  792.0500  802.9500  789.2500  800.0500    335006\n",
       "2025-04-30  812.8500  812.8500  784.4500  788.1500    412886\n",
       "\n",
       "[100 rows x 5 columns]"
      ]
     },
     "execution_count": 26,
     "metadata": {},
     "output_type": "execute_result"
    }
   ],
   "source": [
    "data = response.json()[\"Time Series (Daily)\"]\n",
    "df_sbin = pd.DataFrame(data).T\n",
    "df_sbin"
   ]
  },
  {
   "cell_type": "code",
   "execution_count": 27,
   "id": "b9bf3a6c",
   "metadata": {},
   "outputs": [
    {
     "data": {
      "text/plain": [
       "1. open      object\n",
       "2. high      object\n",
       "3. low       object\n",
       "4. close     object\n",
       "5. volume    object\n",
       "dtype: object"
      ]
     },
     "execution_count": 27,
     "metadata": {},
     "output_type": "execute_result"
    }
   ],
   "source": [
    "df_sbin.dtypes"
   ]
  },
  {
   "cell_type": "code",
   "execution_count": 28,
   "id": "8c338103",
   "metadata": {},
   "outputs": [
    {
     "data": {
      "text/html": [
       "<div>\n",
       "<style scoped>\n",
       "    .dataframe tbody tr th:only-of-type {\n",
       "        vertical-align: middle;\n",
       "    }\n",
       "\n",
       "    .dataframe tbody tr th {\n",
       "        vertical-align: top;\n",
       "    }\n",
       "\n",
       "    .dataframe thead th {\n",
       "        text-align: right;\n",
       "    }\n",
       "</style>\n",
       "<table border=\"1\" class=\"dataframe\">\n",
       "  <thead>\n",
       "    <tr style=\"text-align: right;\">\n",
       "      <th></th>\n",
       "      <th>1. open</th>\n",
       "      <th>2. high</th>\n",
       "      <th>3. low</th>\n",
       "      <th>4. close</th>\n",
       "      <th>5. volume</th>\n",
       "    </tr>\n",
       "  </thead>\n",
       "  <tbody>\n",
       "    <tr>\n",
       "      <th>2025-09-19</th>\n",
       "      <td>852.50</td>\n",
       "      <td>863.50</td>\n",
       "      <td>849.05</td>\n",
       "      <td>862.25</td>\n",
       "      <td>552336.0</td>\n",
       "    </tr>\n",
       "    <tr>\n",
       "      <th>2025-09-18</th>\n",
       "      <td>856.70</td>\n",
       "      <td>860.90</td>\n",
       "      <td>851.05</td>\n",
       "      <td>854.45</td>\n",
       "      <td>719272.0</td>\n",
       "    </tr>\n",
       "    <tr>\n",
       "      <th>2025-09-17</th>\n",
       "      <td>833.25</td>\n",
       "      <td>858.00</td>\n",
       "      <td>831.00</td>\n",
       "      <td>856.95</td>\n",
       "      <td>1807341.0</td>\n",
       "    </tr>\n",
       "    <tr>\n",
       "      <th>2025-09-16</th>\n",
       "      <td>823.40</td>\n",
       "      <td>833.00</td>\n",
       "      <td>821.60</td>\n",
       "      <td>831.80</td>\n",
       "      <td>368364.0</td>\n",
       "    </tr>\n",
       "    <tr>\n",
       "      <th>2025-09-15</th>\n",
       "      <td>823.30</td>\n",
       "      <td>828.00</td>\n",
       "      <td>821.40</td>\n",
       "      <td>824.90</td>\n",
       "      <td>139666.0</td>\n",
       "    </tr>\n",
       "    <tr>\n",
       "      <th>...</th>\n",
       "      <td>...</td>\n",
       "      <td>...</td>\n",
       "      <td>...</td>\n",
       "      <td>...</td>\n",
       "      <td>...</td>\n",
       "    </tr>\n",
       "    <tr>\n",
       "      <th>2025-05-07</th>\n",
       "      <td>762.25</td>\n",
       "      <td>782.55</td>\n",
       "      <td>762.25</td>\n",
       "      <td>776.15</td>\n",
       "      <td>581175.0</td>\n",
       "    </tr>\n",
       "    <tr>\n",
       "      <th>2025-05-06</th>\n",
       "      <td>792.20</td>\n",
       "      <td>799.00</td>\n",
       "      <td>771.15</td>\n",
       "      <td>774.15</td>\n",
       "      <td>761282.0</td>\n",
       "    </tr>\n",
       "    <tr>\n",
       "      <th>2025-05-05</th>\n",
       "      <td>784.95</td>\n",
       "      <td>799.10</td>\n",
       "      <td>783.65</td>\n",
       "      <td>790.00</td>\n",
       "      <td>771587.0</td>\n",
       "    </tr>\n",
       "    <tr>\n",
       "      <th>2025-05-02</th>\n",
       "      <td>792.05</td>\n",
       "      <td>802.95</td>\n",
       "      <td>789.25</td>\n",
       "      <td>800.05</td>\n",
       "      <td>335006.0</td>\n",
       "    </tr>\n",
       "    <tr>\n",
       "      <th>2025-04-30</th>\n",
       "      <td>812.85</td>\n",
       "      <td>812.85</td>\n",
       "      <td>784.45</td>\n",
       "      <td>788.15</td>\n",
       "      <td>412886.0</td>\n",
       "    </tr>\n",
       "  </tbody>\n",
       "</table>\n",
       "<p>100 rows × 5 columns</p>\n",
       "</div>"
      ],
      "text/plain": [
       "            1. open  2. high  3. low  4. close  5. volume\n",
       "2025-09-19   852.50   863.50  849.05    862.25   552336.0\n",
       "2025-09-18   856.70   860.90  851.05    854.45   719272.0\n",
       "2025-09-17   833.25   858.00  831.00    856.95  1807341.0\n",
       "2025-09-16   823.40   833.00  821.60    831.80   368364.0\n",
       "2025-09-15   823.30   828.00  821.40    824.90   139666.0\n",
       "...             ...      ...     ...       ...        ...\n",
       "2025-05-07   762.25   782.55  762.25    776.15   581175.0\n",
       "2025-05-06   792.20   799.00  771.15    774.15   761282.0\n",
       "2025-05-05   784.95   799.10  783.65    790.00   771587.0\n",
       "2025-05-02   792.05   802.95  789.25    800.05   335006.0\n",
       "2025-04-30   812.85   812.85  784.45    788.15   412886.0\n",
       "\n",
       "[100 rows x 5 columns]"
      ]
     },
     "execution_count": 28,
     "metadata": {},
     "output_type": "execute_result"
    }
   ],
   "source": [
    "df_sbin = df_sbin.astype(float).round(2)\n",
    "df_sbin"
   ]
  },
  {
   "cell_type": "code",
   "execution_count": 29,
   "id": "f55c9f32",
   "metadata": {},
   "outputs": [
    {
     "data": {
      "text/plain": [
       "Index(['2025-09-19', '2025-09-18', '2025-09-17', '2025-09-16', '2025-09-15',\n",
       "       '2025-09-12', '2025-09-11', '2025-09-10', '2025-09-09', '2025-09-08',\n",
       "       '2025-09-05', '2025-09-04', '2025-09-03', '2025-09-02', '2025-09-01',\n",
       "       '2025-08-29', '2025-08-28', '2025-08-26', '2025-08-25', '2025-08-22',\n",
       "       '2025-08-21', '2025-08-20', '2025-08-19', '2025-08-18', '2025-08-14',\n",
       "       '2025-08-13', '2025-08-12', '2025-08-11', '2025-08-08', '2025-08-07',\n",
       "       '2025-08-06', '2025-08-05', '2025-08-04', '2025-08-01', '2025-07-31',\n",
       "       '2025-07-30', '2025-07-29', '2025-07-28', '2025-07-25', '2025-07-24',\n",
       "       '2025-07-23', '2025-07-22', '2025-07-21', '2025-07-18', '2025-07-17',\n",
       "       '2025-07-16', '2025-07-15', '2025-07-14', '2025-07-11', '2025-07-10',\n",
       "       '2025-07-09', '2025-07-08', '2025-07-07', '2025-07-04', '2025-07-03',\n",
       "       '2025-07-02', '2025-07-01', '2025-06-30', '2025-06-27', '2025-06-26',\n",
       "       '2025-06-25', '2025-06-24', '2025-06-23', '2025-06-20', '2025-06-19',\n",
       "       '2025-06-18', '2025-06-17', '2025-06-16', '2025-06-13', '2025-06-12',\n",
       "       '2025-06-11', '2025-06-10', '2025-06-09', '2025-06-06', '2025-06-05',\n",
       "       '2025-06-04', '2025-06-03', '2025-06-02', '2025-05-30', '2025-05-29',\n",
       "       '2025-05-28', '2025-05-27', '2025-05-26', '2025-05-23', '2025-05-22',\n",
       "       '2025-05-21', '2025-05-20', '2025-05-19', '2025-05-16', '2025-05-15',\n",
       "       '2025-05-14', '2025-05-13', '2025-05-12', '2025-05-09', '2025-05-08',\n",
       "       '2025-05-07', '2025-05-06', '2025-05-05', '2025-05-02', '2025-04-30'],\n",
       "      dtype='object')"
      ]
     },
     "execution_count": 29,
     "metadata": {},
     "output_type": "execute_result"
    }
   ],
   "source": [
    "df_sbin.index"
   ]
  },
  {
   "cell_type": "code",
   "execution_count": 30,
   "id": "5cff007c",
   "metadata": {},
   "outputs": [
    {
     "data": {
      "text/html": [
       "<div>\n",
       "<style scoped>\n",
       "    .dataframe tbody tr th:only-of-type {\n",
       "        vertical-align: middle;\n",
       "    }\n",
       "\n",
       "    .dataframe tbody tr th {\n",
       "        vertical-align: top;\n",
       "    }\n",
       "\n",
       "    .dataframe thead th {\n",
       "        text-align: right;\n",
       "    }\n",
       "</style>\n",
       "<table border=\"1\" class=\"dataframe\">\n",
       "  <thead>\n",
       "    <tr style=\"text-align: right;\">\n",
       "      <th></th>\n",
       "      <th>1. open</th>\n",
       "      <th>2. high</th>\n",
       "      <th>3. low</th>\n",
       "      <th>4. close</th>\n",
       "      <th>5. volume</th>\n",
       "    </tr>\n",
       "    <tr>\n",
       "      <th>date</th>\n",
       "      <th></th>\n",
       "      <th></th>\n",
       "      <th></th>\n",
       "      <th></th>\n",
       "      <th></th>\n",
       "    </tr>\n",
       "  </thead>\n",
       "  <tbody>\n",
       "    <tr>\n",
       "      <th>2025-09-19</th>\n",
       "      <td>852.50</td>\n",
       "      <td>863.5</td>\n",
       "      <td>849.05</td>\n",
       "      <td>862.25</td>\n",
       "      <td>552336.0</td>\n",
       "    </tr>\n",
       "    <tr>\n",
       "      <th>2025-09-18</th>\n",
       "      <td>856.70</td>\n",
       "      <td>860.9</td>\n",
       "      <td>851.05</td>\n",
       "      <td>854.45</td>\n",
       "      <td>719272.0</td>\n",
       "    </tr>\n",
       "    <tr>\n",
       "      <th>2025-09-17</th>\n",
       "      <td>833.25</td>\n",
       "      <td>858.0</td>\n",
       "      <td>831.00</td>\n",
       "      <td>856.95</td>\n",
       "      <td>1807341.0</td>\n",
       "    </tr>\n",
       "    <tr>\n",
       "      <th>2025-09-16</th>\n",
       "      <td>823.40</td>\n",
       "      <td>833.0</td>\n",
       "      <td>821.60</td>\n",
       "      <td>831.80</td>\n",
       "      <td>368364.0</td>\n",
       "    </tr>\n",
       "    <tr>\n",
       "      <th>2025-09-15</th>\n",
       "      <td>823.30</td>\n",
       "      <td>828.0</td>\n",
       "      <td>821.40</td>\n",
       "      <td>824.90</td>\n",
       "      <td>139666.0</td>\n",
       "    </tr>\n",
       "  </tbody>\n",
       "</table>\n",
       "</div>"
      ],
      "text/plain": [
       "            1. open  2. high  3. low  4. close  5. volume\n",
       "date                                                     \n",
       "2025-09-19   852.50    863.5  849.05    862.25   552336.0\n",
       "2025-09-18   856.70    860.9  851.05    854.45   719272.0\n",
       "2025-09-17   833.25    858.0  831.00    856.95  1807341.0\n",
       "2025-09-16   823.40    833.0  821.60    831.80   368364.0\n",
       "2025-09-15   823.30    828.0  821.40    824.90   139666.0"
      ]
     },
     "execution_count": 30,
     "metadata": {},
     "output_type": "execute_result"
    }
   ],
   "source": [
    "# convert index to datetime type\n",
    "df_sbin.index = pd.to_datetime(df_sbin.index)\n",
    "# name the index as date\n",
    "df_sbin.index.name = \"date\"\n",
    "df_sbin.head()"
   ]
  },
  {
   "cell_type": "code",
   "execution_count": 31,
   "id": "24a1233f",
   "metadata": {},
   "outputs": [],
   "source": [
    "# save to csv\n",
    "df_sbin.to_csv(\"sbin.csv\")"
   ]
  },
  {
   "cell_type": "markdown",
   "id": "892290c1",
   "metadata": {},
   "source": [
    "# Plot above chart as candlestick"
   ]
  },
  {
   "cell_type": "code",
   "execution_count": 32,
   "id": "23d6e880",
   "metadata": {},
   "outputs": [
    {
     "data": {
      "application/vnd.plotly.v1+json": {
       "config": {
        "plotlyServerURL": "https://plot.ly"
       },
       "data": [
        {
         "close": {
          "bdata": "AAAAAADyikCamZmZmbOKQJqZmZmZx4pAZmZmZmb+iUAzMzMzM8eJQGZmZmZmuolAZmZmZma+iUBmZmZmZpKJQJqZmZmZR4lAAAAAAABIiUCamZmZmTeJQM3MzMzMSolAMzMzMzNhiUCamZmZmR+JQDMzMzMzL4lAzczMzMwSiUBmZmZmZhCJQGZmZmZmPolAAAAAAAB8iUDNzMzMzICJQGZmZmZmzIlAZmZmZmbmiUDNzMzMzPKJQAAAAAAA2IlAmpmZmZnViUAzMzMzM7GJQGZmZmZmpIlAZmZmZmbCiUBmZmZmZiSJQAAAAAAAKolAMzMzMzMpiUCamZmZmQWJQDMzMzMz3YhAmpmZmZnPiECamZmZmeOIQM3MzMzMDolAMzMzMzP3iEAzMzMzM+mIQAAAAAAANIlAzczMzMx+iUAAAAAAAKaJQAAAAAAAeIlAmpmZmZnBiUBmZmZmZrqJQM3MzMzM5IlAZmZmZmb8iUAAAAAAAIaJQGZmZmZmSolAAAAAAABEiUAAAAAAAECJQM3MzMzMVolAZmZmZmZmiUCamZmZmTeJQM3MzMzMXolAzczMzMw4iUCamZmZmWmJQAAAAAAAoolAzczMzMyiiUAzMzMzMyuJQAAAAAAA6IhAzczMzMwAiUAAAAAAANqIQDMzMzMzsYhAAAAAAADgiECamZmZmYWIQAAAAAAAvohAmpmZmZnBiEDNzMzMzMaIQDMzMzMzw4hAMzMzMzMtiUCamZmZmXeJQGZmZmZmiIlAZmZmZmagiUDNzMzMzGaJQM3MzMzMMIlAmpmZmZkziUAAAAAAAE6JQJqZmZmZa4lAMzMzMzNjiUBmZmZmZuqIQJqZmZmZ44hAZmZmZmbOiEDNzMzMzNKIQJqZmZmZs4hAzczMzMyKiECamZmZmZmIQM3MzMzMiohAMzMzMzPXiEDNzMzMzL6IQJqZmZmZPYlAzczMzMwCiUAzMzMzMw+JQM3MzMzMDIlAMzMzMzNbiEAAAAAAAAaIQDMzMzMzQYhAMzMzMzMxiEAAAAAAALCIQGZmZmZmAIlAMzMzMzOhiEA=",
          "dtype": "f8"
         },
         "high": {
          "bdata": "AAAAAAD8ikAzMzMzM+eKQAAAAAAA0IpAAAAAAAAIikAAAAAAAOCJQM3MzMzMyolAAAAAAADMiUAAAAAAAMSJQJqZmZmZY4lAAAAAAABsiUCamZmZmWGJQAAAAAAAholAmpmZmZlpiUAAAAAAAFSJQAAAAAAAQolAAAAAAAA4iUDNzMzMzFSJQGZmZmZmfolAmpmZmZmjiUCamZmZmc+JQJqZmZmZC4pAAAAAAAD8iUAAAAAAAPqJQJqZmZmZGYpAAAAAAADgiUAzMzMzM8eJQM3MzMzMzIlAmpmZmZnHiUCamZmZmT+JQAAAAAAANIlAAAAAAABQiUAzMzMzMx2JQJqZmZmZ64hAAAAAAAAGiUDNzMzMzByJQDMzMzMzG4lAmpmZmZkBiUCamZmZmUmJQAAAAAAAmIlAmpmZmZmviUAAAAAAAMiJQAAAAAAA6IlAMzMzMzPbiUAzMzMzMwOKQGZmZmZmUopAAAAAAAAQikAAAAAAAKiJQM3MzMzMfIlAzczMzMxkiUAAAAAAAHyJQAAAAAAAYolAzczMzMxuiUBmZmZmZmaJQAAAAAAAbIlAAAAAAAB4iUDNzMzMzMKJQJqZmZmZx4lAAAAAAACoiUAAAAAAAEyJQJqZmZmZG4lAAAAAAAAoiUAAAAAAADSJQM3MzMzM1IhAzczMzMz4iECamZmZmcmIQAAAAAAA3IhAZmZmZmb2iEDNzMzMzNqIQJqZmZmZ4YhAZmZmZmaEiUDNzMzMzKSJQJqZmZmZr4lAMzMzMzPDiUCamZmZmYOJQDMzMzMzX4lAmpmZmZl/iUCamZmZmY+JQAAAAAAAtIlAzczMzMxyiUAAAAAAAACJQM3MzMzM9ohAMzMzMzMJiUBmZmZmZuyIQGZmZmZm1ohAMzMzMzOniECamZmZmbWIQDMzMzMz/YhAzczMzMwKiUBmZmZmZiaJQAAAAAAATIlAmpmZmZk7iUCamZmZmT2JQDMzMzMzH4lAMzMzMzNriEAAAAAAAJSIQGZmZmZmdIhAAAAAAAD4iEDNzMzMzPiIQJqZmZmZF4lAzczMzMxmiUA=",
          "dtype": "f8"
         },
         "low": {
          "bdata": "ZmZmZmaIikBmZmZmZpiKQAAAAAAA+IlAzczMzMysiUAzMzMzM6uJQDMzMzMzn4lAAAAAAACCiUCamZmZmVGJQDMzMzMzK4lAzczMzMw4iUDNzMzMzByJQM3MzMzMPolAzczMzMwYiUAzMzMzMxeJQDMzMzMzFYlAzczMzMz0iECamZmZmQWJQGZmZmZmNIlAAAAAAABwiUBmZmZmZnyJQAAAAAAAxIlAmpmZmZnXiUDNzMzMzM6JQGZmZmZmyolAmpmZmZmZiUBmZmZmZqSJQAAAAAAAoIlAAAAAAAA4iUDNzMzMzLCIQGZmZmZmyohAAAAAAAD4iEAzMzMzM92IQGZmZmZmlIhAmpmZmZm/iECamZmZmcOIQAAAAAAA4ohAzczMzMzIiEAAAAAAAOCIQGZmZmZmLIlAMzMzMzNViUAzMzMzM1uJQAAAAAAAcIlAmpmZmZmPiUBmZmZmZqCJQDMzMzMz0YlAMzMzMzN5iUCamZmZmVGJQAAAAAAAQIlAAAAAAAAkiUBmZmZmZjiJQM3MzMzMSIlAAAAAAAAsiUCamZmZmSmJQJqZmZmZIYlAAAAAAAAwiUDNzMzMzEiJQAAAAAAAaolAZmZmZmY4iUAzMzMzMxOJQAAAAAAAvIhAzczMzMzgiEDNzMzMzMyIQJqZmZmZo4hAZmZmZmaSiEAAAAAAAGyIQM3MzMzMoohAAAAAAAC2iEDNzMzMzJKIQDMzMzMzp4hAAAAAAAAKiUAzMzMzM2eJQDMzMzMzdYlAzczMzMx8iUAzMzMzMxeJQAAAAAAAGIlAAAAAAAAoiUCamZmZmSmJQM3MzMzMSIlAAAAAAADGiEAzMzMzM7uIQDMzMzMzx4hAAAAAAACuiEBmZmZmZqqIQDMzMzMzk4hAzczMzMxkiEAzMzMzM1uIQAAAAAAAgIhAzczMzMy+iEDNzMzMzLSIQGZmZmZm1IhAAAAAAADkiEAAAAAAAOqIQM3MzMzMyIhAAAAAAACah0AAAAAAAOiHQAAAAAAA0odAMzMzMzMZiEAzMzMzM32IQAAAAAAAqohAmpmZmZmDiEA=",
          "dtype": "f8"
         },
         "open": {
          "bdata": "AAAAAACkikCamZmZmcWKQAAAAAAACopAMzMzMzO7iUBmZmZmZrqJQDMzMzMzx4lAAAAAAACCiUCamZmZmVmJQM3MzMzMUolAzczMzMw4iUAzMzMzM1+JQAAAAAAAholAAAAAAAAoiUAzMzMzM0+JQDMzMzMzFYlAAAAAAAAQiUBmZmZmZj6JQGZmZmZmfolAAAAAAACIiUAAAAAAAMyJQGZmZmZm5olAZmZmZmbuiUAzMzMzM92JQM3MzMzM+olAzczMzMyuiUCamZmZmbuJQGZmZmZmwolAAAAAAAA4iUAAAAAAACiJQM3MzMzMCIlAAAAAAAAIiUAzMzMzM92IQAAAAAAA2IhAAAAAAADkiEAzMzMzM+WIQM3MzMzM/ohAzczMzMzaiECamZmZmUeJQM3MzMzMcolAAAAAAACeiUCamZmZmXmJQAAAAAAA6IlAAAAAAAC8iUAzMzMzMwOKQAAAAAAAOIpAAAAAAACEiUCamZmZmVGJQDMzMzMzU4lAAAAAAABAiUAAAAAAAGCJQAAAAAAAUIlAmpmZmZlHiUBmZmZmZmaJQAAAAAAAUolAAAAAAABoiUCamZmZmaWJQM3MzMzMoolAmpmZmZlHiUAAAAAAADCJQJqZmZmZFYlAAAAAAAD4iEAAAAAAAPSIQJqZmZmZsYhAmpmZmZmfiEDNzMzMzMaIQM3MzMzMwIhAAAAAAADMiEBmZmZmZsSIQAAAAAAArohAAAAAAACAiUBmZmZmZoiJQJqZmZmZr4lAzczMzMyIiUDNzMzMzDCJQAAAAAAASIlAzczMzMx4iUAzMzMzM4eJQM3MzMzMYIlAzczMzMzqiEDNzMzMzOiIQAAAAAAA0IhAMzMzMzPRiECamZmZmbuIQJqZmZmZmYhAMzMzMzOniEAAAAAAAJSIQAAAAAAA8ohAmpmZmZnHiEBmZmZmZiaJQM3MzMzMJolAAAAAAAAqiUCamZmZmQOJQM3MzMzM/ohAAAAAAACah0AAAAAAAFCIQAAAAAAA0odAmpmZmZnBiECamZmZmYeIQGZmZmZmwIhAzczMzMxmiUA=",
          "dtype": "f8"
         },
         "type": "candlestick",
         "x": [
          "2025-09-19T00:00:00.000000000",
          "2025-09-18T00:00:00.000000000",
          "2025-09-17T00:00:00.000000000",
          "2025-09-16T00:00:00.000000000",
          "2025-09-15T00:00:00.000000000",
          "2025-09-12T00:00:00.000000000",
          "2025-09-11T00:00:00.000000000",
          "2025-09-10T00:00:00.000000000",
          "2025-09-09T00:00:00.000000000",
          "2025-09-08T00:00:00.000000000",
          "2025-09-05T00:00:00.000000000",
          "2025-09-04T00:00:00.000000000",
          "2025-09-03T00:00:00.000000000",
          "2025-09-02T00:00:00.000000000",
          "2025-09-01T00:00:00.000000000",
          "2025-08-29T00:00:00.000000000",
          "2025-08-28T00:00:00.000000000",
          "2025-08-26T00:00:00.000000000",
          "2025-08-25T00:00:00.000000000",
          "2025-08-22T00:00:00.000000000",
          "2025-08-21T00:00:00.000000000",
          "2025-08-20T00:00:00.000000000",
          "2025-08-19T00:00:00.000000000",
          "2025-08-18T00:00:00.000000000",
          "2025-08-14T00:00:00.000000000",
          "2025-08-13T00:00:00.000000000",
          "2025-08-12T00:00:00.000000000",
          "2025-08-11T00:00:00.000000000",
          "2025-08-08T00:00:00.000000000",
          "2025-08-07T00:00:00.000000000",
          "2025-08-06T00:00:00.000000000",
          "2025-08-05T00:00:00.000000000",
          "2025-08-04T00:00:00.000000000",
          "2025-08-01T00:00:00.000000000",
          "2025-07-31T00:00:00.000000000",
          "2025-07-30T00:00:00.000000000",
          "2025-07-29T00:00:00.000000000",
          "2025-07-28T00:00:00.000000000",
          "2025-07-25T00:00:00.000000000",
          "2025-07-24T00:00:00.000000000",
          "2025-07-23T00:00:00.000000000",
          "2025-07-22T00:00:00.000000000",
          "2025-07-21T00:00:00.000000000",
          "2025-07-18T00:00:00.000000000",
          "2025-07-17T00:00:00.000000000",
          "2025-07-16T00:00:00.000000000",
          "2025-07-15T00:00:00.000000000",
          "2025-07-14T00:00:00.000000000",
          "2025-07-11T00:00:00.000000000",
          "2025-07-10T00:00:00.000000000",
          "2025-07-09T00:00:00.000000000",
          "2025-07-08T00:00:00.000000000",
          "2025-07-07T00:00:00.000000000",
          "2025-07-04T00:00:00.000000000",
          "2025-07-03T00:00:00.000000000",
          "2025-07-02T00:00:00.000000000",
          "2025-07-01T00:00:00.000000000",
          "2025-06-30T00:00:00.000000000",
          "2025-06-27T00:00:00.000000000",
          "2025-06-26T00:00:00.000000000",
          "2025-06-25T00:00:00.000000000",
          "2025-06-24T00:00:00.000000000",
          "2025-06-23T00:00:00.000000000",
          "2025-06-20T00:00:00.000000000",
          "2025-06-19T00:00:00.000000000",
          "2025-06-18T00:00:00.000000000",
          "2025-06-17T00:00:00.000000000",
          "2025-06-16T00:00:00.000000000",
          "2025-06-13T00:00:00.000000000",
          "2025-06-12T00:00:00.000000000",
          "2025-06-11T00:00:00.000000000",
          "2025-06-10T00:00:00.000000000",
          "2025-06-09T00:00:00.000000000",
          "2025-06-06T00:00:00.000000000",
          "2025-06-05T00:00:00.000000000",
          "2025-06-04T00:00:00.000000000",
          "2025-06-03T00:00:00.000000000",
          "2025-06-02T00:00:00.000000000",
          "2025-05-30T00:00:00.000000000",
          "2025-05-29T00:00:00.000000000",
          "2025-05-28T00:00:00.000000000",
          "2025-05-27T00:00:00.000000000",
          "2025-05-26T00:00:00.000000000",
          "2025-05-23T00:00:00.000000000",
          "2025-05-22T00:00:00.000000000",
          "2025-05-21T00:00:00.000000000",
          "2025-05-20T00:00:00.000000000",
          "2025-05-19T00:00:00.000000000",
          "2025-05-16T00:00:00.000000000",
          "2025-05-15T00:00:00.000000000",
          "2025-05-14T00:00:00.000000000",
          "2025-05-13T00:00:00.000000000",
          "2025-05-12T00:00:00.000000000",
          "2025-05-09T00:00:00.000000000",
          "2025-05-08T00:00:00.000000000",
          "2025-05-07T00:00:00.000000000",
          "2025-05-06T00:00:00.000000000",
          "2025-05-05T00:00:00.000000000",
          "2025-05-02T00:00:00.000000000",
          "2025-04-30T00:00:00.000000000"
         ]
        }
       ],
       "layout": {
        "height": 800,
        "template": {
         "data": {
          "candlestick": [
           {
            "decreasing": {
             "line": {
              "color": "#000033"
             }
            },
            "increasing": {
             "line": {
              "color": "#000032"
             }
            },
            "type": "candlestick"
           }
          ],
          "contour": [
           {
            "colorscale": [
             [
              0,
              "#000011"
             ],
             [
              0.1111111111111111,
              "#000012"
             ],
             [
              0.2222222222222222,
              "#000013"
             ],
             [
              0.3333333333333333,
              "#000014"
             ],
             [
              0.4444444444444444,
              "#000015"
             ],
             [
              0.5555555555555556,
              "#000016"
             ],
             [
              0.6666666666666666,
              "#000017"
             ],
             [
              0.7777777777777778,
              "#000018"
             ],
             [
              0.8888888888888888,
              "#000019"
             ],
             [
              1,
              "#000020"
             ]
            ],
            "type": "contour"
           }
          ],
          "contourcarpet": [
           {
            "colorscale": [
             [
              0,
              "#000011"
             ],
             [
              0.1111111111111111,
              "#000012"
             ],
             [
              0.2222222222222222,
              "#000013"
             ],
             [
              0.3333333333333333,
              "#000014"
             ],
             [
              0.4444444444444444,
              "#000015"
             ],
             [
              0.5555555555555556,
              "#000016"
             ],
             [
              0.6666666666666666,
              "#000017"
             ],
             [
              0.7777777777777778,
              "#000018"
             ],
             [
              0.8888888888888888,
              "#000019"
             ],
             [
              1,
              "#000020"
             ]
            ],
            "type": "contourcarpet"
           }
          ],
          "heatmap": [
           {
            "colorscale": [
             [
              0,
              "#000011"
             ],
             [
              0.1111111111111111,
              "#000012"
             ],
             [
              0.2222222222222222,
              "#000013"
             ],
             [
              0.3333333333333333,
              "#000014"
             ],
             [
              0.4444444444444444,
              "#000015"
             ],
             [
              0.5555555555555556,
              "#000016"
             ],
             [
              0.6666666666666666,
              "#000017"
             ],
             [
              0.7777777777777778,
              "#000018"
             ],
             [
              0.8888888888888888,
              "#000019"
             ],
             [
              1,
              "#000020"
             ]
            ],
            "type": "heatmap"
           }
          ],
          "histogram2d": [
           {
            "colorscale": [
             [
              0,
              "#000011"
             ],
             [
              0.1111111111111111,
              "#000012"
             ],
             [
              0.2222222222222222,
              "#000013"
             ],
             [
              0.3333333333333333,
              "#000014"
             ],
             [
              0.4444444444444444,
              "#000015"
             ],
             [
              0.5555555555555556,
              "#000016"
             ],
             [
              0.6666666666666666,
              "#000017"
             ],
             [
              0.7777777777777778,
              "#000018"
             ],
             [
              0.8888888888888888,
              "#000019"
             ],
             [
              1,
              "#000020"
             ]
            ],
            "type": "histogram2d"
           }
          ],
          "icicle": [
           {
            "textfont": {
             "color": "white"
            },
            "type": "icicle"
           }
          ],
          "sankey": [
           {
            "textfont": {
             "color": "#000036"
            },
            "type": "sankey"
           }
          ],
          "scatter": [
           {
            "marker": {
             "line": {
              "width": 0
             }
            },
            "type": "scatter"
           }
          ],
          "table": [
           {
            "cells": {
             "fill": {
              "color": "#000038"
             },
             "font": {
              "color": "#000037"
             },
             "line": {
              "color": "#000039"
             }
            },
            "header": {
             "fill": {
              "color": "#000040"
             },
             "font": {
              "color": "#000036"
             },
             "line": {
              "color": "#000039"
             }
            },
            "type": "table"
           }
          ],
          "waterfall": [
           {
            "connector": {
             "line": {
              "color": "#000036",
              "width": 2
             }
            },
            "decreasing": {
             "marker": {
              "color": "#000033"
             }
            },
            "increasing": {
             "marker": {
              "color": "#000032"
             }
            },
            "totals": {
             "marker": {
              "color": "#000034"
             }
            },
            "type": "waterfall"
           }
          ]
         },
         "layout": {
          "coloraxis": {
           "colorscale": [
            [
             0,
             "#000011"
            ],
            [
             0.1111111111111111,
             "#000012"
            ],
            [
             0.2222222222222222,
             "#000013"
            ],
            [
             0.3333333333333333,
             "#000014"
            ],
            [
             0.4444444444444444,
             "#000015"
            ],
            [
             0.5555555555555556,
             "#000016"
            ],
            [
             0.6666666666666666,
             "#000017"
            ],
            [
             0.7777777777777778,
             "#000018"
            ],
            [
             0.8888888888888888,
             "#000019"
            ],
            [
             1,
             "#000020"
            ]
           ]
          },
          "colorscale": {
           "diverging": [
            [
             0,
             "#000021"
            ],
            [
             0.1,
             "#000022"
            ],
            [
             0.2,
             "#000023"
            ],
            [
             0.3,
             "#000024"
            ],
            [
             0.4,
             "#000025"
            ],
            [
             0.5,
             "#000026"
            ],
            [
             0.6,
             "#000027"
            ],
            [
             0.7,
             "#000028"
            ],
            [
             0.8,
             "#000029"
            ],
            [
             0.9,
             "#000030"
            ],
            [
             1,
             "#000031"
            ]
           ],
           "sequential": [
            [
             0,
             "#000011"
            ],
            [
             0.1111111111111111,
             "#000012"
            ],
            [
             0.2222222222222222,
             "#000013"
            ],
            [
             0.3333333333333333,
             "#000014"
            ],
            [
             0.4444444444444444,
             "#000015"
            ],
            [
             0.5555555555555556,
             "#000016"
            ],
            [
             0.6666666666666666,
             "#000017"
            ],
            [
             0.7777777777777778,
             "#000018"
            ],
            [
             0.8888888888888888,
             "#000019"
            ],
            [
             1,
             "#000020"
            ]
           ],
           "sequentialminus": [
            [
             0,
             "#000011"
            ],
            [
             0.1111111111111111,
             "#000012"
            ],
            [
             0.2222222222222222,
             "#000013"
            ],
            [
             0.3333333333333333,
             "#000014"
            ],
            [
             0.4444444444444444,
             "#000015"
            ],
            [
             0.5555555555555556,
             "#000016"
            ],
            [
             0.6666666666666666,
             "#000017"
            ],
            [
             0.7777777777777778,
             "#000018"
            ],
            [
             0.8888888888888888,
             "#000019"
            ],
            [
             1,
             "#000020"
            ]
           ]
          },
          "colorway": [
           "#000001",
           "#000002",
           "#000003",
           "#000004",
           "#000005",
           "#000006",
           "#000007",
           "#000008",
           "#000009",
           "#000010"
          ]
         }
        },
        "width": 1200
       }
      }
     },
     "metadata": {},
     "output_type": "display_data"
    }
   ],
   "source": [
    "import plotly.graph_objects as go\n",
    "\n",
    "fig = go.Figure(\n",
    "    data=[\n",
    "        go.Candlestick(\n",
    "            x=df_sbin.index,\n",
    "            open=df_sbin[\"1. open\"],\n",
    "            high=df_sbin[\"2. high\"],\n",
    "            low=df_sbin[\"3. low\"],\n",
    "            close=df_sbin[\"4. close\"],\n",
    "        )\n",
    "    ]\n",
    ")\n",
    "\n",
    "fig.update_layout(width=1200, height=800)\n",
    "\n",
    "fig.show()"
   ]
  },
  {
   "cell_type": "markdown",
   "id": "fb3307d9",
   "metadata": {},
   "source": [
    "# Create a class to get data for any company"
   ]
  },
  {
   "cell_type": "code",
   "execution_count": 33,
   "id": "5cddb05b",
   "metadata": {},
   "outputs": [],
   "source": [
    "import requests\n",
    "import streamlit as st\n",
    "import pandas as pd\n",
    "import plotly.graph_objects as go\n",
    "\n",
    "\n",
    "class StockClient:\n",
    "\n",
    "    def __init__(self):\n",
    "        self.url = \"https://alpha-vantage.p.rapidapi.com/query\"\n",
    "        self.headers = {\n",
    "            \"x-rapidapi-key\": st.secrets[\"API_KEY\"],\n",
    "            \"x-rapidapi-host\": \"alpha-vantage.p.rapidapi.com\",\n",
    "        }\n",
    "\n",
    "    def get_symbols(self, company: str) -> pd.DataFrame:\n",
    "        querystring = {\n",
    "            \"datatype\": \"json\",\n",
    "            \"keywords\": company,\n",
    "            \"function\": \"SYMBOL_SEARCH\",\n",
    "        }\n",
    "        response = requests.get(url=self.url, headers=self.headers, params=querystring)\n",
    "        response.raise_for_status()  # Throuws an error if response not fetched\n",
    "        data = response.json()[\"bestMatches\"]\n",
    "        df_search = pd.DataFrame(data)\n",
    "        return df_search\n",
    "\n",
    "    def get_daily_data(self, symbol: str) -> pd.DataFrame:\n",
    "        querystring = {\n",
    "            \"function\": \"TIME_SERIES_DAILY\",\n",
    "            \"symbol\": symbol,\n",
    "            \"outputsize\": \"compact\",\n",
    "            \"datatype\": \"json\",\n",
    "        }\n",
    "        response = requests.get(url=self.url, headers=self.headers, params=querystring)\n",
    "        response.raise_for_status()\n",
    "        data = response.json()[\"Time Series (Daily)\"]\n",
    "        df_stock = pd.DataFrame(data).T\n",
    "        df_stock = df_stock.astype(float).round(2)\n",
    "        df_stock.index = pd.to_datetime(df_stock.index)\n",
    "        df_stock.index.name = \"Date\"\n",
    "        return df_stock\n",
    "\n",
    "    def get_candlestick_chart(self, df: pd.DataFrame) -> go.Figure:\n",
    "        fig = go.Figure(\n",
    "            data=[\n",
    "                go.Candlestick(\n",
    "                    x=df.index,\n",
    "                    open=df[\"1. open\"],\n",
    "                    high=df[\"2. high\"],\n",
    "                    low=df[\"3. low\"],\n",
    "                    close=df[\"4. close\"],\n",
    "                )\n",
    "            ]\n",
    "        )\n",
    "        fig.update_layout(width=1200, height=800)\n",
    "        return fig"
   ]
  },
  {
   "cell_type": "markdown",
   "id": "ba8a53df",
   "metadata": {},
   "source": [
    "# Intialize stock client"
   ]
  },
  {
   "cell_type": "code",
   "execution_count": 34,
   "id": "4649158a",
   "metadata": {},
   "outputs": [
    {
     "name": "stdout",
     "output_type": "stream",
     "text": [
      "<class '__main__.StockClient'>\n"
     ]
    }
   ],
   "source": [
    "client = StockClient()\n",
    "print(type(client))"
   ]
  },
  {
   "cell_type": "code",
   "execution_count": 35,
   "id": "4d225d4c",
   "metadata": {},
   "outputs": [
    {
     "data": {
      "text/html": [
       "<div>\n",
       "<style scoped>\n",
       "    .dataframe tbody tr th:only-of-type {\n",
       "        vertical-align: middle;\n",
       "    }\n",
       "\n",
       "    .dataframe tbody tr th {\n",
       "        vertical-align: top;\n",
       "    }\n",
       "\n",
       "    .dataframe thead th {\n",
       "        text-align: right;\n",
       "    }\n",
       "</style>\n",
       "<table border=\"1\" class=\"dataframe\">\n",
       "  <thead>\n",
       "    <tr style=\"text-align: right;\">\n",
       "      <th></th>\n",
       "      <th>1. symbol</th>\n",
       "      <th>2. name</th>\n",
       "      <th>3. type</th>\n",
       "      <th>4. region</th>\n",
       "      <th>5. marketOpen</th>\n",
       "      <th>6. marketClose</th>\n",
       "      <th>7. timezone</th>\n",
       "      <th>8. currency</th>\n",
       "      <th>9. matchScore</th>\n",
       "    </tr>\n",
       "  </thead>\n",
       "  <tbody>\n",
       "    <tr>\n",
       "      <th>0</th>\n",
       "      <td>GODREJCP.BSE</td>\n",
       "      <td>GODREJ CONSUMER PRODUCTS LTD.</td>\n",
       "      <td>Equity</td>\n",
       "      <td>India/Bombay</td>\n",
       "      <td>09:15</td>\n",
       "      <td>15:30</td>\n",
       "      <td>UTC+5.5</td>\n",
       "      <td>INR</td>\n",
       "      <td>0.7059</td>\n",
       "    </tr>\n",
       "    <tr>\n",
       "      <th>1</th>\n",
       "      <td>GODREJIND.BSE</td>\n",
       "      <td>GODREJ INDUSTRIES LTD.</td>\n",
       "      <td>Equity</td>\n",
       "      <td>India/Bombay</td>\n",
       "      <td>09:15</td>\n",
       "      <td>15:30</td>\n",
       "      <td>UTC+5.5</td>\n",
       "      <td>INR</td>\n",
       "      <td>0.6667</td>\n",
       "    </tr>\n",
       "    <tr>\n",
       "      <th>2</th>\n",
       "      <td>GODREJAGRO.BSE</td>\n",
       "      <td>Godrej Agrovet Ltd</td>\n",
       "      <td>Equity</td>\n",
       "      <td>India/Bombay</td>\n",
       "      <td>09:15</td>\n",
       "      <td>15:30</td>\n",
       "      <td>UTC+5.5</td>\n",
       "      <td>INR</td>\n",
       "      <td>0.6316</td>\n",
       "    </tr>\n",
       "    <tr>\n",
       "      <th>3</th>\n",
       "      <td>GODREJPROP.BSE</td>\n",
       "      <td>Godrej Properties Ltd</td>\n",
       "      <td>Equity</td>\n",
       "      <td>India/Bombay</td>\n",
       "      <td>09:15</td>\n",
       "      <td>15:30</td>\n",
       "      <td>UTC+5.5</td>\n",
       "      <td>INR</td>\n",
       "      <td>0.6316</td>\n",
       "    </tr>\n",
       "    <tr>\n",
       "      <th>4</th>\n",
       "      <td>540743.BSE</td>\n",
       "      <td>Godrej Agrovet Limited</td>\n",
       "      <td>Equity</td>\n",
       "      <td>India/Bombay</td>\n",
       "      <td>09:15</td>\n",
       "      <td>15:30</td>\n",
       "      <td>UTC+5.5</td>\n",
       "      <td>INR</td>\n",
       "      <td>0.4286</td>\n",
       "    </tr>\n",
       "    <tr>\n",
       "      <th>5</th>\n",
       "      <td>532424.BSE</td>\n",
       "      <td>Godrej Consumer Products Limited</td>\n",
       "      <td>Equity</td>\n",
       "      <td>India/Bombay</td>\n",
       "      <td>09:15</td>\n",
       "      <td>15:30</td>\n",
       "      <td>UTC+5.5</td>\n",
       "      <td>INR</td>\n",
       "      <td>0.3158</td>\n",
       "    </tr>\n",
       "  </tbody>\n",
       "</table>\n",
       "</div>"
      ],
      "text/plain": [
       "        1. symbol                           2. name 3. type     4. region  \\\n",
       "0    GODREJCP.BSE     GODREJ CONSUMER PRODUCTS LTD.  Equity  India/Bombay   \n",
       "1   GODREJIND.BSE            GODREJ INDUSTRIES LTD.  Equity  India/Bombay   \n",
       "2  GODREJAGRO.BSE                Godrej Agrovet Ltd  Equity  India/Bombay   \n",
       "3  GODREJPROP.BSE             Godrej Properties Ltd  Equity  India/Bombay   \n",
       "4      540743.BSE            Godrej Agrovet Limited  Equity  India/Bombay   \n",
       "5      532424.BSE  Godrej Consumer Products Limited  Equity  India/Bombay   \n",
       "\n",
       "  5. marketOpen 6. marketClose 7. timezone 8. currency 9. matchScore  \n",
       "0         09:15          15:30     UTC+5.5         INR        0.7059  \n",
       "1         09:15          15:30     UTC+5.5         INR        0.6667  \n",
       "2         09:15          15:30     UTC+5.5         INR        0.6316  \n",
       "3         09:15          15:30     UTC+5.5         INR        0.6316  \n",
       "4         09:15          15:30     UTC+5.5         INR        0.4286  \n",
       "5         09:15          15:30     UTC+5.5         INR        0.3158  "
      ]
     },
     "execution_count": 35,
     "metadata": {},
     "output_type": "execute_result"
    }
   ],
   "source": [
    "# Get the company symbol for Godrej\n",
    "\n",
    "symbols_df = client.get_symbols(company=\"Godrej\")\n",
    "symbols_df"
   ]
  },
  {
   "cell_type": "code",
   "execution_count": 40,
   "id": "1e3cf6cd",
   "metadata": {},
   "outputs": [
    {
     "data": {
      "text/html": [
       "<div>\n",
       "<style scoped>\n",
       "    .dataframe tbody tr th:only-of-type {\n",
       "        vertical-align: middle;\n",
       "    }\n",
       "\n",
       "    .dataframe tbody tr th {\n",
       "        vertical-align: top;\n",
       "    }\n",
       "\n",
       "    .dataframe thead th {\n",
       "        text-align: right;\n",
       "    }\n",
       "</style>\n",
       "<table border=\"1\" class=\"dataframe\">\n",
       "  <thead>\n",
       "    <tr style=\"text-align: right;\">\n",
       "      <th></th>\n",
       "      <th>1. open</th>\n",
       "      <th>2. high</th>\n",
       "      <th>3. low</th>\n",
       "      <th>4. close</th>\n",
       "      <th>5. volume</th>\n",
       "    </tr>\n",
       "    <tr>\n",
       "      <th>Date</th>\n",
       "      <th></th>\n",
       "      <th></th>\n",
       "      <th></th>\n",
       "      <th></th>\n",
       "      <th></th>\n",
       "    </tr>\n",
       "  </thead>\n",
       "  <tbody>\n",
       "    <tr>\n",
       "      <th>2025-09-19</th>\n",
       "      <td>1217.35</td>\n",
       "      <td>1220.60</td>\n",
       "      <td>1161.10</td>\n",
       "      <td>1177.65</td>\n",
       "      <td>11116.0</td>\n",
       "    </tr>\n",
       "    <tr>\n",
       "      <th>2025-09-18</th>\n",
       "      <td>1202.70</td>\n",
       "      <td>1235.50</td>\n",
       "      <td>1202.70</td>\n",
       "      <td>1217.40</td>\n",
       "      <td>2927.0</td>\n",
       "    </tr>\n",
       "    <tr>\n",
       "      <th>2025-09-17</th>\n",
       "      <td>1223.00</td>\n",
       "      <td>1225.00</td>\n",
       "      <td>1195.00</td>\n",
       "      <td>1217.05</td>\n",
       "      <td>8410.0</td>\n",
       "    </tr>\n",
       "    <tr>\n",
       "      <th>2025-09-16</th>\n",
       "      <td>1255.95</td>\n",
       "      <td>1255.95</td>\n",
       "      <td>1217.70</td>\n",
       "      <td>1222.90</td>\n",
       "      <td>3132.0</td>\n",
       "    </tr>\n",
       "    <tr>\n",
       "      <th>2025-09-15</th>\n",
       "      <td>1210.00</td>\n",
       "      <td>1266.45</td>\n",
       "      <td>1209.10</td>\n",
       "      <td>1243.25</td>\n",
       "      <td>10204.0</td>\n",
       "    </tr>\n",
       "    <tr>\n",
       "      <th>...</th>\n",
       "      <td>...</td>\n",
       "      <td>...</td>\n",
       "      <td>...</td>\n",
       "      <td>...</td>\n",
       "      <td>...</td>\n",
       "    </tr>\n",
       "    <tr>\n",
       "      <th>2025-05-08</th>\n",
       "      <td>1134.85</td>\n",
       "      <td>1134.85</td>\n",
       "      <td>1104.10</td>\n",
       "      <td>1110.30</td>\n",
       "      <td>3099.0</td>\n",
       "    </tr>\n",
       "    <tr>\n",
       "      <th>2025-05-07</th>\n",
       "      <td>1129.95</td>\n",
       "      <td>1130.45</td>\n",
       "      <td>1084.65</td>\n",
       "      <td>1124.40</td>\n",
       "      <td>5061.0</td>\n",
       "    </tr>\n",
       "    <tr>\n",
       "      <th>2025-05-06</th>\n",
       "      <td>1071.85</td>\n",
       "      <td>1115.00</td>\n",
       "      <td>1071.85</td>\n",
       "      <td>1111.95</td>\n",
       "      <td>3787.0</td>\n",
       "    </tr>\n",
       "    <tr>\n",
       "      <th>2025-05-05</th>\n",
       "      <td>1067.80</td>\n",
       "      <td>1095.20</td>\n",
       "      <td>1049.90</td>\n",
       "      <td>1087.20</td>\n",
       "      <td>10322.0</td>\n",
       "    </tr>\n",
       "    <tr>\n",
       "      <th>2025-05-02</th>\n",
       "      <td>1062.25</td>\n",
       "      <td>1087.15</td>\n",
       "      <td>1057.05</td>\n",
       "      <td>1067.80</td>\n",
       "      <td>2191.0</td>\n",
       "    </tr>\n",
       "  </tbody>\n",
       "</table>\n",
       "<p>100 rows × 5 columns</p>\n",
       "</div>"
      ],
      "text/plain": [
       "            1. open  2. high   3. low  4. close  5. volume\n",
       "Date                                                      \n",
       "2025-09-19  1217.35  1220.60  1161.10   1177.65    11116.0\n",
       "2025-09-18  1202.70  1235.50  1202.70   1217.40     2927.0\n",
       "2025-09-17  1223.00  1225.00  1195.00   1217.05     8410.0\n",
       "2025-09-16  1255.95  1255.95  1217.70   1222.90     3132.0\n",
       "2025-09-15  1210.00  1266.45  1209.10   1243.25    10204.0\n",
       "...             ...      ...      ...       ...        ...\n",
       "2025-05-08  1134.85  1134.85  1104.10   1110.30     3099.0\n",
       "2025-05-07  1129.95  1130.45  1084.65   1124.40     5061.0\n",
       "2025-05-06  1071.85  1115.00  1071.85   1111.95     3787.0\n",
       "2025-05-05  1067.80  1095.20  1049.90   1087.20    10322.0\n",
       "2025-05-02  1062.25  1087.15  1057.05   1067.80     2191.0\n",
       "\n",
       "[100 rows x 5 columns]"
      ]
     },
     "execution_count": 40,
     "metadata": {},
     "output_type": "execute_result"
    }
   ],
   "source": [
    "# get stock data for GODREJIND.BSE\n",
    "\n",
    "df_godrej = client.get_daily_data(symbol=\"GODREJIND.BSE\")\n",
    "df_godrej"
   ]
  },
  {
   "cell_type": "code",
   "execution_count": 37,
   "id": "a31d2d3a",
   "metadata": {},
   "outputs": [],
   "source": [
    "df_godrej.to_csv(\"godrej.csv\")"
   ]
  },
  {
   "cell_type": "code",
   "execution_count": 41,
   "id": "36659766",
   "metadata": {},
   "outputs": [
    {
     "data": {
      "application/vnd.plotly.v1+json": {
       "config": {
        "plotlyServerURL": "https://plot.ly"
       },
       "data": [
        {
         "close": {
          "bdata": "mpmZmZlmkkCamZmZmQWTQDMzMzMzBJNAmpmZmZkbk0AAAAAAAG2TQM3MzMzM5ZJAmpmZmZnekkAAAAAAANqSQDMzMzMz+5JAAAAAAADckkDNzMzMzLiSQM3MzMzMr5JAZmZmZmbCkkAAAAAAALuSQJqZmZmZIpNAAAAAAAAxk0BmZmZmZoqTQM3MzMzM1pNAzczMzMzWk0AAAAAAABGUQM3MzMzMH5RAAAAAAAAUlEBmZmZmZh6UQAAAAAAAHJRAmpmZmZndk0DNzMzMzHmSQAAAAAAAXZJAZmZmZmYgkUAAAAAAABWRQJqZmZmZL5FAAAAAAABZkUCamZmZmcSRQM3MzMzMwpFAAAAAAAB+kUBmZmZmZpGRQDMzMzMz6ZFAZmZmZmbHkUDNzMzMzHaRQJqZmZmZuZFAMzMzMzO7kUBmZmZmZrGRQM3MzMzMoZFAAAAAAADhkUAAAAAAAL2RQGZmZmZmDJJAMzMzMzPpkUAzMzMzM+iRQGZmZmZmh5FAZmZmZmYjkUAzMzMzMymRQGZmZmZmuZFAmpmZmZnpkUAAAAAAAAaSQAAAAAAANpJAzczMzMw8kkCamZmZmRySQGZmZmZmFJJAmpmZmZnekkDNzMzMzHyTQJqZmZmZgZNAAAAAAACBk0AzMzMzM4GTQDMzMzMzlZNAZmZmZmYKlEDNzMzMzBGVQDMzMzMz6pRAAAAAAAAMlUCamZmZmZyUQDMzMzMzXJRAZmZmZmb8k0CamZmZmTWUQDMzMzMzBZRAZmZmZmamlEDNzMzMzDCVQAAAAAAAPJVAMzMzMzOJkkAzMzMzM5WSQDMzMzMzmZJAMzMzMzO+kkCamZmZmYWSQGZmZmZmc5JAZmZmZmZokkDNzMzMzGCSQJqZmZmZN5JAmpmZmZlEkkAzMzMzMz2SQGZmZmZmIpJAmpmZmZkVkkAzMzMzMwuSQAAAAAAA25FAAAAAAACUkUAzMzMzM0aSQGZmZmZm1pFAAAAAAACKkUAzMzMzM+eQQDMzMzMzWZFAmpmZmZmRkUDNzMzMzF+RQM3MzMzM/JBAMzMzMzOvkEA=",
          "dtype": "f8"
         },
         "high": {
          "bdata": "ZmZmZmYSk0AAAAAAAE6TQAAAAAAAJJNAzczMzMyfk0DNzMzMzMmTQJqZmZmZN5NAZmZmZmYNk0AAAAAAADCTQDMzMzMzHZNAMzMzMzMok0AAAAAAANSSQJqZmZmZC5NAmpmZmZnakkDNzMzMzCuTQM3MzMzMPZNAAAAAAACYk0CamZmZmUiUQM3MzMzM1pNAZmZmZmZNlEDNzMzMzDaUQAAAAAAAZJRAAAAAAABHlEAAAAAAALSUQAAAAAAARJRAAAAAAAAAlEAAAAAAAK6SQGZmZmZmCZNAZmZmZmZKkUAzMzMzM1qRQAAAAAAAWJFAzczMzMzVkUDNzMzMzPeRQGZmZmZm2pFAmpmZmZmPkUCamZmZmemRQJqZmZmZA5JAzczMzMzTkUAzMzMzM6CRQJqZmZmZ75FAMzMzMzPOkUAzMzMzM/yRQDMzMzMz7ZFAZmZmZmZGkkAAAAAAACCSQAAAAAAAGJJAmpmZmZkgkkAAAAAAAHySQDMzMzMzlpFAAAAAAABYkUDNzMzMzKiRQDMzMzMz+JFAAAAAAABBkkDNzMzMzFuSQJqZmZmZXZJAMzMzMzNIk0DNzMzMzC+SQGZmZmZmBJNAmpmZmZmnk0AAAAAAAOWTQGZmZmZmp5NAzczMzMzDk0CamZmZmc+TQAAAAAAASJRAmpmZmZk4lUDNzMzMzIiVQAAAAAAAkJVAAAAAAABUlUDNzMzMzN6UQM3MzMzMe5RAzczMzMwVlEDNzMzMzFGUQDMzMzMzqpRAMzMzMzM1lUAAAAAAAKiVQAAAAAAAvpVAAAAAAADAkkAAAAAAALaSQAAAAAAACJNAAAAAAADUkkDNzMzMzNeSQAAAAAAA8ZJAAAAAAAB4kkAAAAAAAG+SQDMzMzMzaZJAAAAAAACYkkAAAAAAAHCSQM3MzMzMhpJAAAAAAAAgkkAAAAAAACiSQAAAAAAAM5JAZmZmZmZGkkDNzMzMzHGSQAAAAAAA5JFAAAAAAACokUDNzMzMzE+RQGZmZmZmu5FAzczMzMypkUAAAAAAAGyRQM3MzMzMHJFAmpmZmZn8kEA=",
          "dtype": "f8"
         },
         "low": {
          "bdata": "ZmZmZmYkkkDNzMzMzMqSQAAAAAAArJJAzczMzMwGk0BmZmZmZuSSQM3MzMzMvpJAzczMzMyikkAAAAAAAMaSQGZmZmZmpZJAmpmZmZmZkkBmZmZmZn2SQAAAAAAAfpJAMzMzMzOOkkAAAAAAAJqSQAAAAAAA6JJAzczMzMwfk0BmZmZmZoOTQM3MzMzM1pNAzczMzMzPk0BmZmZmZvuTQAAAAAAABpRAzczMzMzBk0AAAAAAAACUQM3MzMzMuZNAAAAAAAClkkDNzMzMzP2RQDMzMzMzKpFAAAAAAAAQkUAAAAAAANyQQDMzMzMzHpFAZmZmZmYekUDNzMzMzK+RQGZmZmZmfZFAMzMzMzNbkUBmZmZmZlORQGZmZmZmN5FAZmZmZmZbkUAAAAAAAAyRQM3MzMzMcJFAAAAAAABykUDNzMzMzJmRQAAAAAAAe5FAMzMzMzORkUDNzMzMzKaRQJqZmZmZqpFAAAAAAACwkUAAAAAAAJSRQJqZmZmZCJFAzczMzMzrkEAAAAAAAA6RQAAAAAAAqJFAAAAAAADgkUBmZmZmZvKRQM3MzMzM55FAmpmZmZn+kUAAAAAAAJSRQM3MzMzM8JFAAAAAAADFkkDNzMzMzFuTQAAAAAAAZJNAMzMzMzNbk0DNzMzMzEmTQJqZmZmZdZNAAAAAAAD0k0AAAAAAALGUQAAAAAAAoJRAZmZmZmZhlEAAAAAAADCUQGZmZmZma5NAMzMzMzNsk0AAAAAAAPSTQGZmZmZm75NAmpmZmZmDlEAzMzMzM7+UQAAAAAAAopJAAAAAAAB6kkAzMzMzM1ySQAAAAAAAepJAzczMzMwkkkDNzMzMzBGSQAAAAAAAVJJAmpmZmZn/kUDNzMzMzCKSQJqZmZmZFJJAAAAAAAA0kkDNzMzMzOaRQGZmZmZm+JFAZmZmZma6kUAAAAAAAJSRQGZmZmZmnZFAMzMzMzOGkUAzMzMzM3SRQJqZmZmZYJFAMzMzMzP0kEDNzMzMzKaQQGZmZmZmQJFAmpmZmZnykEBmZmZmZr+QQJqZmZmZZ5BAMzMzMzOEkEA=",
          "dtype": "f8"
         },
         "open": {
          "bdata": "ZmZmZmYFk0DNzMzMzMqSQAAAAAAAHJNAzczMzMyfk0AAAAAAAOiSQJqZmZmZN5NAzczMzMyikkDNzMzMzMqSQAAAAAAA3JJAMzMzMzMok0DNzMzMzK6SQDMzMzMzApNAzczMzMyrkkDNzMzMzCuTQDMzMzMzK5NAZmZmZmZ8k0CamZmZmUiUQM3MzMzM1pNAZmZmZmZNlEBmZmZmZvuTQAAAAAAABpRAzczMzMzBk0AAAAAAAByUQGZmZmZm9pNAzczMzMy/kkDNzMzMzEOSQGZmZmZmMZFAAAAAAAAckUAAAAAAACyRQDMzMzMzHpFAzczMzMy2kUDNzMzMzPeRQM3MzMzMz5FAAAAAAABokUAzMzMzM+mRQGZmZmZmN5FAAAAAAACAkUAAAAAAAICRQM3MzMzMcJFAAAAAAACckUAzMzMzM/yRQDMzMzMz0JFAMzMzMzOokUCamZmZmRGSQAAAAAAA3JFAMzMzMzPAkUAAAAAAAJSRQJqZmZmZCJFAAAAAAAAqkUAzMzMzM6iRQAAAAAAA+JFAAAAAAAAMkkDNzMzMzFuSQAAAAAAAIJJAzczMzMw0kkBmZmZmZgGSQAAAAAAAwJJAzczMzMybk0CamZmZmYaTQM3MzMzMc5NAzczMzMzDk0AAAAAAAKuTQAAAAAAAMJRAzczMzMyOlEAAAAAAANyUQM3MzMzMEJVAmpmZmZmHlEAzMzMzM0eUQJqZmZmZ2JNAMzMzMzNsk0AzMzMzMwWUQGZmZmZmppRAMzMzMzPhlEAzMzMzM/iUQJqZmZmZwpJAZmZmZmaMkkAzMzMzM1ySQGZmZmZm25JAzczMzMwkkkDNzMzMzNeSQAAAAAAAVJJAmpmZmZn/kUAzMzMzM12SQAAAAAAAI5JAZmZmZmZ/kkDNzMzMzOaRQM3MzMzMR5JAAAAAAAD0kUAzMzMzM6yRQAAAAAAAM5JAZmZmZmZGkkAzMzMzM3SRQDMzMzMzlJFAMzMzMzP0kEDNzMzMzKaQQGZmZmZmu5FAzczMzMynkUBmZmZmZr+QQDMzMzMzr5BAAAAAAACZkEA=",
          "dtype": "f8"
         },
         "type": "candlestick",
         "x": [
          "2025-09-19T00:00:00.000000000",
          "2025-09-18T00:00:00.000000000",
          "2025-09-17T00:00:00.000000000",
          "2025-09-16T00:00:00.000000000",
          "2025-09-15T00:00:00.000000000",
          "2025-09-12T00:00:00.000000000",
          "2025-09-11T00:00:00.000000000",
          "2025-09-10T00:00:00.000000000",
          "2025-09-09T00:00:00.000000000",
          "2025-09-08T00:00:00.000000000",
          "2025-09-05T00:00:00.000000000",
          "2025-09-04T00:00:00.000000000",
          "2025-09-03T00:00:00.000000000",
          "2025-09-02T00:00:00.000000000",
          "2025-09-01T00:00:00.000000000",
          "2025-08-29T00:00:00.000000000",
          "2025-08-28T00:00:00.000000000",
          "2025-08-27T00:00:00.000000000",
          "2025-08-26T00:00:00.000000000",
          "2025-08-25T00:00:00.000000000",
          "2025-08-22T00:00:00.000000000",
          "2025-08-21T00:00:00.000000000",
          "2025-08-20T00:00:00.000000000",
          "2025-08-19T00:00:00.000000000",
          "2025-08-18T00:00:00.000000000",
          "2025-08-14T00:00:00.000000000",
          "2025-08-13T00:00:00.000000000",
          "2025-08-12T00:00:00.000000000",
          "2025-08-11T00:00:00.000000000",
          "2025-08-08T00:00:00.000000000",
          "2025-08-07T00:00:00.000000000",
          "2025-08-06T00:00:00.000000000",
          "2025-08-05T00:00:00.000000000",
          "2025-08-04T00:00:00.000000000",
          "2025-08-01T00:00:00.000000000",
          "2025-07-31T00:00:00.000000000",
          "2025-07-30T00:00:00.000000000",
          "2025-07-29T00:00:00.000000000",
          "2025-07-28T00:00:00.000000000",
          "2025-07-25T00:00:00.000000000",
          "2025-07-24T00:00:00.000000000",
          "2025-07-23T00:00:00.000000000",
          "2025-07-22T00:00:00.000000000",
          "2025-07-21T00:00:00.000000000",
          "2025-07-18T00:00:00.000000000",
          "2025-07-17T00:00:00.000000000",
          "2025-07-16T00:00:00.000000000",
          "2025-07-15T00:00:00.000000000",
          "2025-07-14T00:00:00.000000000",
          "2025-07-11T00:00:00.000000000",
          "2025-07-10T00:00:00.000000000",
          "2025-07-09T00:00:00.000000000",
          "2025-07-08T00:00:00.000000000",
          "2025-07-07T00:00:00.000000000",
          "2025-07-04T00:00:00.000000000",
          "2025-07-03T00:00:00.000000000",
          "2025-07-02T00:00:00.000000000",
          "2025-07-01T00:00:00.000000000",
          "2025-06-30T00:00:00.000000000",
          "2025-06-27T00:00:00.000000000",
          "2025-06-26T00:00:00.000000000",
          "2025-06-25T00:00:00.000000000",
          "2025-06-24T00:00:00.000000000",
          "2025-06-23T00:00:00.000000000",
          "2025-06-20T00:00:00.000000000",
          "2025-06-19T00:00:00.000000000",
          "2025-06-18T00:00:00.000000000",
          "2025-06-17T00:00:00.000000000",
          "2025-06-16T00:00:00.000000000",
          "2025-06-13T00:00:00.000000000",
          "2025-06-12T00:00:00.000000000",
          "2025-06-11T00:00:00.000000000",
          "2025-06-10T00:00:00.000000000",
          "2025-06-09T00:00:00.000000000",
          "2025-06-06T00:00:00.000000000",
          "2025-06-05T00:00:00.000000000",
          "2025-06-04T00:00:00.000000000",
          "2025-06-03T00:00:00.000000000",
          "2025-06-02T00:00:00.000000000",
          "2025-05-30T00:00:00.000000000",
          "2025-05-29T00:00:00.000000000",
          "2025-05-28T00:00:00.000000000",
          "2025-05-27T00:00:00.000000000",
          "2025-05-26T00:00:00.000000000",
          "2025-05-23T00:00:00.000000000",
          "2025-05-22T00:00:00.000000000",
          "2025-05-21T00:00:00.000000000",
          "2025-05-20T00:00:00.000000000",
          "2025-05-19T00:00:00.000000000",
          "2025-05-16T00:00:00.000000000",
          "2025-05-15T00:00:00.000000000",
          "2025-05-14T00:00:00.000000000",
          "2025-05-13T00:00:00.000000000",
          "2025-05-12T00:00:00.000000000",
          "2025-05-09T00:00:00.000000000",
          "2025-05-08T00:00:00.000000000",
          "2025-05-07T00:00:00.000000000",
          "2025-05-06T00:00:00.000000000",
          "2025-05-05T00:00:00.000000000",
          "2025-05-02T00:00:00.000000000"
         ]
        }
       ],
       "layout": {
        "height": 800,
        "template": {
         "data": {
          "candlestick": [
           {
            "decreasing": {
             "line": {
              "color": "#000033"
             }
            },
            "increasing": {
             "line": {
              "color": "#000032"
             }
            },
            "type": "candlestick"
           }
          ],
          "contour": [
           {
            "colorscale": [
             [
              0,
              "#000011"
             ],
             [
              0.1111111111111111,
              "#000012"
             ],
             [
              0.2222222222222222,
              "#000013"
             ],
             [
              0.3333333333333333,
              "#000014"
             ],
             [
              0.4444444444444444,
              "#000015"
             ],
             [
              0.5555555555555556,
              "#000016"
             ],
             [
              0.6666666666666666,
              "#000017"
             ],
             [
              0.7777777777777778,
              "#000018"
             ],
             [
              0.8888888888888888,
              "#000019"
             ],
             [
              1,
              "#000020"
             ]
            ],
            "type": "contour"
           }
          ],
          "contourcarpet": [
           {
            "colorscale": [
             [
              0,
              "#000011"
             ],
             [
              0.1111111111111111,
              "#000012"
             ],
             [
              0.2222222222222222,
              "#000013"
             ],
             [
              0.3333333333333333,
              "#000014"
             ],
             [
              0.4444444444444444,
              "#000015"
             ],
             [
              0.5555555555555556,
              "#000016"
             ],
             [
              0.6666666666666666,
              "#000017"
             ],
             [
              0.7777777777777778,
              "#000018"
             ],
             [
              0.8888888888888888,
              "#000019"
             ],
             [
              1,
              "#000020"
             ]
            ],
            "type": "contourcarpet"
           }
          ],
          "heatmap": [
           {
            "colorscale": [
             [
              0,
              "#000011"
             ],
             [
              0.1111111111111111,
              "#000012"
             ],
             [
              0.2222222222222222,
              "#000013"
             ],
             [
              0.3333333333333333,
              "#000014"
             ],
             [
              0.4444444444444444,
              "#000015"
             ],
             [
              0.5555555555555556,
              "#000016"
             ],
             [
              0.6666666666666666,
              "#000017"
             ],
             [
              0.7777777777777778,
              "#000018"
             ],
             [
              0.8888888888888888,
              "#000019"
             ],
             [
              1,
              "#000020"
             ]
            ],
            "type": "heatmap"
           }
          ],
          "histogram2d": [
           {
            "colorscale": [
             [
              0,
              "#000011"
             ],
             [
              0.1111111111111111,
              "#000012"
             ],
             [
              0.2222222222222222,
              "#000013"
             ],
             [
              0.3333333333333333,
              "#000014"
             ],
             [
              0.4444444444444444,
              "#000015"
             ],
             [
              0.5555555555555556,
              "#000016"
             ],
             [
              0.6666666666666666,
              "#000017"
             ],
             [
              0.7777777777777778,
              "#000018"
             ],
             [
              0.8888888888888888,
              "#000019"
             ],
             [
              1,
              "#000020"
             ]
            ],
            "type": "histogram2d"
           }
          ],
          "icicle": [
           {
            "textfont": {
             "color": "white"
            },
            "type": "icicle"
           }
          ],
          "sankey": [
           {
            "textfont": {
             "color": "#000036"
            },
            "type": "sankey"
           }
          ],
          "scatter": [
           {
            "marker": {
             "line": {
              "width": 0
             }
            },
            "type": "scatter"
           }
          ],
          "table": [
           {
            "cells": {
             "fill": {
              "color": "#000038"
             },
             "font": {
              "color": "#000037"
             },
             "line": {
              "color": "#000039"
             }
            },
            "header": {
             "fill": {
              "color": "#000040"
             },
             "font": {
              "color": "#000036"
             },
             "line": {
              "color": "#000039"
             }
            },
            "type": "table"
           }
          ],
          "waterfall": [
           {
            "connector": {
             "line": {
              "color": "#000036",
              "width": 2
             }
            },
            "decreasing": {
             "marker": {
              "color": "#000033"
             }
            },
            "increasing": {
             "marker": {
              "color": "#000032"
             }
            },
            "totals": {
             "marker": {
              "color": "#000034"
             }
            },
            "type": "waterfall"
           }
          ]
         },
         "layout": {
          "coloraxis": {
           "colorscale": [
            [
             0,
             "#000011"
            ],
            [
             0.1111111111111111,
             "#000012"
            ],
            [
             0.2222222222222222,
             "#000013"
            ],
            [
             0.3333333333333333,
             "#000014"
            ],
            [
             0.4444444444444444,
             "#000015"
            ],
            [
             0.5555555555555556,
             "#000016"
            ],
            [
             0.6666666666666666,
             "#000017"
            ],
            [
             0.7777777777777778,
             "#000018"
            ],
            [
             0.8888888888888888,
             "#000019"
            ],
            [
             1,
             "#000020"
            ]
           ]
          },
          "colorscale": {
           "diverging": [
            [
             0,
             "#000021"
            ],
            [
             0.1,
             "#000022"
            ],
            [
             0.2,
             "#000023"
            ],
            [
             0.3,
             "#000024"
            ],
            [
             0.4,
             "#000025"
            ],
            [
             0.5,
             "#000026"
            ],
            [
             0.6,
             "#000027"
            ],
            [
             0.7,
             "#000028"
            ],
            [
             0.8,
             "#000029"
            ],
            [
             0.9,
             "#000030"
            ],
            [
             1,
             "#000031"
            ]
           ],
           "sequential": [
            [
             0,
             "#000011"
            ],
            [
             0.1111111111111111,
             "#000012"
            ],
            [
             0.2222222222222222,
             "#000013"
            ],
            [
             0.3333333333333333,
             "#000014"
            ],
            [
             0.4444444444444444,
             "#000015"
            ],
            [
             0.5555555555555556,
             "#000016"
            ],
            [
             0.6666666666666666,
             "#000017"
            ],
            [
             0.7777777777777778,
             "#000018"
            ],
            [
             0.8888888888888888,
             "#000019"
            ],
            [
             1,
             "#000020"
            ]
           ],
           "sequentialminus": [
            [
             0,
             "#000011"
            ],
            [
             0.1111111111111111,
             "#000012"
            ],
            [
             0.2222222222222222,
             "#000013"
            ],
            [
             0.3333333333333333,
             "#000014"
            ],
            [
             0.4444444444444444,
             "#000015"
            ],
            [
             0.5555555555555556,
             "#000016"
            ],
            [
             0.6666666666666666,
             "#000017"
            ],
            [
             0.7777777777777778,
             "#000018"
            ],
            [
             0.8888888888888888,
             "#000019"
            ],
            [
             1,
             "#000020"
            ]
           ]
          },
          "colorway": [
           "#000001",
           "#000002",
           "#000003",
           "#000004",
           "#000005",
           "#000006",
           "#000007",
           "#000008",
           "#000009",
           "#000010"
          ]
         }
        },
        "width": 1200
       }
      }
     },
     "metadata": {},
     "output_type": "display_data"
    }
   ],
   "source": [
    "# plot chart\n",
    "\n",
    "fig = client.get_candlestick_chart(df_godrej)\n",
    "fig.show()"
   ]
  },
  {
   "cell_type": "markdown",
   "id": "7fff84e2",
   "metadata": {},
   "source": [
    "## Show above details for tesla"
   ]
  },
  {
   "cell_type": "code",
   "execution_count": 39,
   "id": "2b090278",
   "metadata": {},
   "outputs": [
    {
     "data": {
      "text/html": [
       "<div>\n",
       "<style scoped>\n",
       "    .dataframe tbody tr th:only-of-type {\n",
       "        vertical-align: middle;\n",
       "    }\n",
       "\n",
       "    .dataframe tbody tr th {\n",
       "        vertical-align: top;\n",
       "    }\n",
       "\n",
       "    .dataframe thead th {\n",
       "        text-align: right;\n",
       "    }\n",
       "</style>\n",
       "<table border=\"1\" class=\"dataframe\">\n",
       "  <thead>\n",
       "    <tr style=\"text-align: right;\">\n",
       "      <th></th>\n",
       "      <th>1. symbol</th>\n",
       "      <th>2. name</th>\n",
       "      <th>3. type</th>\n",
       "      <th>4. region</th>\n",
       "      <th>5. marketOpen</th>\n",
       "      <th>6. marketClose</th>\n",
       "      <th>7. timezone</th>\n",
       "      <th>8. currency</th>\n",
       "      <th>9. matchScore</th>\n",
       "    </tr>\n",
       "  </thead>\n",
       "  <tbody>\n",
       "    <tr>\n",
       "      <th>0</th>\n",
       "      <td>TSLA</td>\n",
       "      <td>Tesla Inc</td>\n",
       "      <td>Equity</td>\n",
       "      <td>United States</td>\n",
       "      <td>09:30</td>\n",
       "      <td>16:00</td>\n",
       "      <td>UTC-04</td>\n",
       "      <td>USD</td>\n",
       "      <td>0.8889</td>\n",
       "    </tr>\n",
       "    <tr>\n",
       "      <th>1</th>\n",
       "      <td>TL0.DEX</td>\n",
       "      <td>Tesla Inc</td>\n",
       "      <td>Equity</td>\n",
       "      <td>XETRA</td>\n",
       "      <td>08:00</td>\n",
       "      <td>20:00</td>\n",
       "      <td>UTC+02</td>\n",
       "      <td>EUR</td>\n",
       "      <td>0.7143</td>\n",
       "    </tr>\n",
       "    <tr>\n",
       "      <th>2</th>\n",
       "      <td>TL0.FRK</td>\n",
       "      <td>Tesla Inc</td>\n",
       "      <td>Equity</td>\n",
       "      <td>Frankfurt</td>\n",
       "      <td>08:00</td>\n",
       "      <td>20:00</td>\n",
       "      <td>UTC+02</td>\n",
       "      <td>EUR</td>\n",
       "      <td>0.7143</td>\n",
       "    </tr>\n",
       "    <tr>\n",
       "      <th>3</th>\n",
       "      <td>TSLA34.SAO</td>\n",
       "      <td>Tesla Inc</td>\n",
       "      <td>Equity</td>\n",
       "      <td>Brazil/Sao Paolo</td>\n",
       "      <td>10:00</td>\n",
       "      <td>17:30</td>\n",
       "      <td>UTC-03</td>\n",
       "      <td>BRL</td>\n",
       "      <td>0.7143</td>\n",
       "    </tr>\n",
       "    <tr>\n",
       "      <th>4</th>\n",
       "      <td>TSLA.TRT</td>\n",
       "      <td>Tesla CDR (CAD Hedged)</td>\n",
       "      <td>Equity</td>\n",
       "      <td>Toronto</td>\n",
       "      <td>09:30</td>\n",
       "      <td>16:00</td>\n",
       "      <td>UTC-05</td>\n",
       "      <td>CAD</td>\n",
       "      <td>0.6667</td>\n",
       "    </tr>\n",
       "    <tr>\n",
       "      <th>5</th>\n",
       "      <td>TL01.FRK</td>\n",
       "      <td>TESLA INC. CDR DL-001</td>\n",
       "      <td>Equity</td>\n",
       "      <td>Frankfurt</td>\n",
       "      <td>08:00</td>\n",
       "      <td>20:00</td>\n",
       "      <td>UTC+02</td>\n",
       "      <td>EUR</td>\n",
       "      <td>0.3846</td>\n",
       "    </tr>\n",
       "  </tbody>\n",
       "</table>\n",
       "</div>"
      ],
      "text/plain": [
       "    1. symbol                 2. name 3. type         4. region 5. marketOpen  \\\n",
       "0        TSLA               Tesla Inc  Equity     United States         09:30   \n",
       "1     TL0.DEX               Tesla Inc  Equity             XETRA         08:00   \n",
       "2     TL0.FRK               Tesla Inc  Equity         Frankfurt         08:00   \n",
       "3  TSLA34.SAO               Tesla Inc  Equity  Brazil/Sao Paolo         10:00   \n",
       "4    TSLA.TRT  Tesla CDR (CAD Hedged)  Equity           Toronto         09:30   \n",
       "5    TL01.FRK   TESLA INC. CDR DL-001  Equity         Frankfurt         08:00   \n",
       "\n",
       "  6. marketClose 7. timezone 8. currency 9. matchScore  \n",
       "0          16:00      UTC-04         USD        0.8889  \n",
       "1          20:00      UTC+02         EUR        0.7143  \n",
       "2          20:00      UTC+02         EUR        0.7143  \n",
       "3          17:30      UTC-03         BRL        0.7143  \n",
       "4          16:00      UTC-05         CAD        0.6667  \n",
       "5          20:00      UTC+02         EUR        0.3846  "
      ]
     },
     "execution_count": 39,
     "metadata": {},
     "output_type": "execute_result"
    }
   ],
   "source": [
    "client.get_symbols(\"Tesla\")"
   ]
  },
  {
   "cell_type": "code",
   "execution_count": 43,
   "id": "dfe18e32",
   "metadata": {},
   "outputs": [
    {
     "data": {
      "text/html": [
       "<div>\n",
       "<style scoped>\n",
       "    .dataframe tbody tr th:only-of-type {\n",
       "        vertical-align: middle;\n",
       "    }\n",
       "\n",
       "    .dataframe tbody tr th {\n",
       "        vertical-align: top;\n",
       "    }\n",
       "\n",
       "    .dataframe thead th {\n",
       "        text-align: right;\n",
       "    }\n",
       "</style>\n",
       "<table border=\"1\" class=\"dataframe\">\n",
       "  <thead>\n",
       "    <tr style=\"text-align: right;\">\n",
       "      <th></th>\n",
       "      <th>1. open</th>\n",
       "      <th>2. high</th>\n",
       "      <th>3. low</th>\n",
       "      <th>4. close</th>\n",
       "      <th>5. volume</th>\n",
       "    </tr>\n",
       "    <tr>\n",
       "      <th>Date</th>\n",
       "      <th></th>\n",
       "      <th></th>\n",
       "      <th></th>\n",
       "      <th></th>\n",
       "      <th></th>\n",
       "    </tr>\n",
       "  </thead>\n",
       "  <tbody>\n",
       "    <tr>\n",
       "      <th>2025-09-19</th>\n",
       "      <td>421.82</td>\n",
       "      <td>429.47</td>\n",
       "      <td>421.72</td>\n",
       "      <td>426.07</td>\n",
       "      <td>93131034.0</td>\n",
       "    </tr>\n",
       "    <tr>\n",
       "      <th>2025-09-18</th>\n",
       "      <td>428.86</td>\n",
       "      <td>432.22</td>\n",
       "      <td>416.56</td>\n",
       "      <td>416.85</td>\n",
       "      <td>90454509.0</td>\n",
       "    </tr>\n",
       "    <tr>\n",
       "      <th>2025-09-17</th>\n",
       "      <td>415.75</td>\n",
       "      <td>428.31</td>\n",
       "      <td>409.67</td>\n",
       "      <td>425.86</td>\n",
       "      <td>106133532.0</td>\n",
       "    </tr>\n",
       "    <tr>\n",
       "      <th>2025-09-16</th>\n",
       "      <td>414.50</td>\n",
       "      <td>423.25</td>\n",
       "      <td>411.43</td>\n",
       "      <td>421.62</td>\n",
       "      <td>104285721.0</td>\n",
       "    </tr>\n",
       "    <tr>\n",
       "      <th>2025-09-15</th>\n",
       "      <td>423.13</td>\n",
       "      <td>425.70</td>\n",
       "      <td>402.43</td>\n",
       "      <td>410.04</td>\n",
       "      <td>163823667.0</td>\n",
       "    </tr>\n",
       "    <tr>\n",
       "      <th>...</th>\n",
       "      <td>...</td>\n",
       "      <td>...</td>\n",
       "      <td>...</td>\n",
       "      <td>...</td>\n",
       "      <td>...</td>\n",
       "    </tr>\n",
       "    <tr>\n",
       "      <th>2025-05-05</th>\n",
       "      <td>284.57</td>\n",
       "      <td>284.85</td>\n",
       "      <td>274.40</td>\n",
       "      <td>280.26</td>\n",
       "      <td>94618882.0</td>\n",
       "    </tr>\n",
       "    <tr>\n",
       "      <th>2025-05-02</th>\n",
       "      <td>284.90</td>\n",
       "      <td>294.78</td>\n",
       "      <td>279.81</td>\n",
       "      <td>287.21</td>\n",
       "      <td>114454683.0</td>\n",
       "    </tr>\n",
       "    <tr>\n",
       "      <th>2025-05-01</th>\n",
       "      <td>280.01</td>\n",
       "      <td>290.87</td>\n",
       "      <td>279.81</td>\n",
       "      <td>280.52</td>\n",
       "      <td>99658974.0</td>\n",
       "    </tr>\n",
       "    <tr>\n",
       "      <th>2025-04-30</th>\n",
       "      <td>279.90</td>\n",
       "      <td>284.45</td>\n",
       "      <td>270.78</td>\n",
       "      <td>282.16</td>\n",
       "      <td>128961057.0</td>\n",
       "    </tr>\n",
       "    <tr>\n",
       "      <th>2025-04-29</th>\n",
       "      <td>285.50</td>\n",
       "      <td>293.32</td>\n",
       "      <td>279.47</td>\n",
       "      <td>292.03</td>\n",
       "      <td>108906553.0</td>\n",
       "    </tr>\n",
       "  </tbody>\n",
       "</table>\n",
       "<p>100 rows × 5 columns</p>\n",
       "</div>"
      ],
      "text/plain": [
       "            1. open  2. high  3. low  4. close    5. volume\n",
       "Date                                                       \n",
       "2025-09-19   421.82   429.47  421.72    426.07   93131034.0\n",
       "2025-09-18   428.86   432.22  416.56    416.85   90454509.0\n",
       "2025-09-17   415.75   428.31  409.67    425.86  106133532.0\n",
       "2025-09-16   414.50   423.25  411.43    421.62  104285721.0\n",
       "2025-09-15   423.13   425.70  402.43    410.04  163823667.0\n",
       "...             ...      ...     ...       ...          ...\n",
       "2025-05-05   284.57   284.85  274.40    280.26   94618882.0\n",
       "2025-05-02   284.90   294.78  279.81    287.21  114454683.0\n",
       "2025-05-01   280.01   290.87  279.81    280.52   99658974.0\n",
       "2025-04-30   279.90   284.45  270.78    282.16  128961057.0\n",
       "2025-04-29   285.50   293.32  279.47    292.03  108906553.0\n",
       "\n",
       "[100 rows x 5 columns]"
      ]
     },
     "execution_count": 43,
     "metadata": {},
     "output_type": "execute_result"
    }
   ],
   "source": [
    "df_tsla = client.get_daily_data(symbol=\"TSLA\")\n",
    "df_tsla"
   ]
  },
  {
   "cell_type": "code",
   "execution_count": 44,
   "id": "246380ca",
   "metadata": {},
   "outputs": [
    {
     "data": {
      "application/vnd.plotly.v1+json": {
       "config": {
        "plotlyServerURL": "https://plot.ly"
       },
       "data": [
        {
         "close": {
          "bdata": "hetRuB6hekCamZmZmQ16QPYoXI/CnXpAUrgehetZekBxPQrXo6B5QNejcD0Kv3hAKVyPwvUMd0BxPQrXo7x1QOxRuB6Fr3VAZmZmZmamdUA9CtejcO11QBSuR+F6KHVAPQrXo3DhdED2KFyPwpV0QFK4HoXr3XRASOF6FK6fdUCamZmZmdl1QB+F61G4+nVAmpmZmZmpdUBcj8L1KEB1QPYoXI/CAXRAZmZmZmY+dEApXI/C9ZR0QMP1KFyP8nRAKVyPwvWodEDhehSuR/l0QK5H4XoUNnVAPQrXo3BNdUAUrkfhejB1QGZmZmZmmnRAuB6F61EkdEDD9Shcj/5zQOxRuB6FS3NAXI/C9ShUc0CuR+F6FOpyQLgehetRRHNAcT0K16Pwc0AzMzMzMxN0QD0K16NwWXRAKVyPwvXAc0DNzMzMzBRzQClcj8L1yHRA9ihcj8LBdECkcD0K14d0QGZmZmZmmnRAw/UoXI/2c0AfhetRuBp0QBSuR+F6bHNAZmZmZmbOc0Bcj8L1KJhzQFK4HoXrXXNArkfhehR+ckApXI/C9ZxyQNejcD0KX3JAmpmZmZm1c0BmZmZmZrpzQI/C9Shcy3JAw/UoXI/ac0CuR+F6FDp0QBSuR+F6XHRAzczMzMx4dEDsUbgehUd1QHsUrkfhynVAw/UoXI8idEDNzMzMzCB0QJqZmZmZxXNArkfhehSSdEApXI/C9VR0QPYoXI/C8XNAexSuR+FmdEA9CtejcGF0QOF6FK5HSXNACtejcD1yckAzMzMzM8txQM3MzMzMwHRAuB6F61GEdUDXo3A9Cmt1QI/C9Shcp3VAexSuR+FmdkBmZmZmZk52QArXo3A9rnZAPQrXo3A1dUBxPQrXo1B1QFK4HoXr6XRAhetRuB59dUA9CtejcGF1QEjhehSu33VAhetRuB5tdUB7FK5H4bp1QIXrUbge4XRArkfhehTmc0Bcj8L1KKRyQIXrUbgezXFA7FG4HoVDcUCamZmZmTVxQFyPwvUohHFAj8L1KFzzcUC4HoXrUYhxQMP1KFyPonFAFK5H4XpAckA=",
          "dtype": "f8"
         },
         "high": {
          "bdata": "7FG4HoXXekDsUbgehQN7QClcj8L1xHpAAAAAAAB0ekAzMzMzM5t6QNejcD0Ky3hApHA9CtcPd0DhehSuR0V2QLgehetR7HVA16NwPQpndkBSuB6F6z12QArXo3A9LnVA4XoUrkd1dUDhehSuR9V0QAAAAAAAzHVAzczMzMwYdkAK16NwPTZ2QGZmZmZm/nVAFK5H4XrYdUAAAAAAAER1QGZmZmZmTnRAUrgeheu1dEDNzMzMzEh1QLgehetRBHVAzczMzMw0dUDsUbgehUd1QEjhehSuz3VAXI/C9SiUdUAK16NwPap1QGZmZmZm8nRAZmZmZmYmdEDsUbgehQd0QDMzMzMzh3NAUrgeheuBc0ApXI/C9VRzQFK4HoXrFXRAMzMzMzNHdEAAAAAAAGR0QKRwPQrXp3RArkfhehQ6dEBmZmZmZmJzQDMzMzMzA3VAw/UoXI/2dEAAAAAAACB1QGZmZmZmrnRAPQrXo3BFdEAAAAAAADh0QDMzMzMzE3RAmpmZmZkpdEA9CtejcKFzQEjhehSuZ3NAZmZmZmbCckDNzMzMzABzQGZmZmZmgnJAMzMzMzPnc0DhehSuR81zQArXo3A9HnNA4XoUrkdZdEA9CtejcJV0QM3MzMzMsHRAAAAAAABwdUBcj8L1KER2QHE9CtejWHZA9ihcj8LFdECF61G4HpV0QFyPwvUodHRAzczMzMzAdECkcD0K1890QClcj8L1yHRAAAAAAAD4dEDhehSuR310QOF6FK5HXXNAAAAAAAAYc0DNzMzMzEh0QJqZmZmZmXVAZmZmZmY2dkC4HoXrUcB1QHsUrkfhunZAj8L1KFz7dkAAAAAAANB2QHE9CtejvHZAexSuR+FydUC4HoXrUbR1QJqZmZmZtXVApHA9CtcvdkAAAAAAAHB1QFK4HoXr+XVACtejcD2idUAAAAAAAOB1QD0K16NwGXVAj8L1KFwjdEBxPQrXozBzQM3MzMzMHHJAH4XrUbhecUBI4XoUrltxQJqZmZmZzXFAFK5H4XpsckBSuB6F6y1yQDMzMzMzx3FAhetRuB5VckA=",
          "dtype": "f8"
         },
         "low": {
          "bdata": "7FG4HoVbekApXI/C9Qh6QB+F61G4mnlAexSuR+G2eUB7FK5H4SZ5QKRwPQrXI3dAmpmZmZm5dUCF61G4HqF1QIXrUbgefXVAPQrXo3CNdUB7FK5H4Yp1QEjhehSut3RAXI/C9SiIdECamZmZmVl0QDMzMzMzu3RAXI/C9ShEdUDD9Shcj9J1QOxRuB6Fe3VAFK5H4XrwdEDXo3A9CvtzQHsUrkfh6nNAmpmZmZmpc0CamZmZmX10QD0K16NwmXRAuB6F61FwdEBmZmZmZqZ0QDMzMzMzI3VA16NwPQrPdEBmZmZmZuJ0QEjhehSuD3RAw/UoXI/Cc0B7FK5H4S5zQAAAAAAAGHNAAAAAAADwckCF61G4Hp1yQJqZmZmZIXNAUrgehet5c0AAAAAAAORzQNejcD0Ku3NAXI/C9ShAc0DD9Shcj8ZyQB+F61G4inRAzczMzMwYdECuR+F6FG50QB+F61G4FnRAKVyPwvXQc0BSuB6F64lzQAAAAAAAaHNAH4XrUbiKc0BmZmZmZhpzQAAAAAAAwHJAzczMzMxYckCamZmZmWVyQLgehetRDHJAXI/C9SiMc0CF61G4Hv1yQI/C9ShcU3JAmpmZmZnJc0AAAAAAANhzQPYoXI/COXRAZmZmZmYGdEDXo3A9Ckd1QEjhehSud3RAFK5H4Xrcc0AzMzMzM7dzQKRwPQrXq3NAw/UoXI9mdEDNzMzMzJRzQPYoXI/CzXNAAAAAAAAodEAfhetRuGpzQJqZmZmZnXFACtejcD0yckCPwvUoXBNxQOF6FK5HdXRAcT0K16NwdUDhehSuR9V0QHE9CtejlHVAAAAAAABAdkDD9Shcjz52QIXrUbgetXVAj8L1KFzTdEAK16NwPbZ0QDMzMzMzw3RArkfhehRadUBSuB6F69V0QOF6FK5HZXVA7FG4HoXrdEAAAAAAABB1QM3MzMzMzHNAAAAAAAB4c0AAAAAAACByQMP1KFyPdnFAAAAAAADwcECamZmZmfVwQGZmZmZmJnFAKVyPwvV8cUApXI/C9XxxQBSuR+F67HBA7FG4HoV3cUA=",
          "dtype": "f8"
         },
         "open": {
          "bdata": "hetRuB5dekD2KFyPws16QAAAAAAA/HlAAAAAAADoeUCuR+F6FHJ6QNejcD0KL3dAH4XrUbjidUDNzMzMzOh1QNejcD0Kx3VACtejcD0qdkAAAAAAAMB1QGZmZmZmAnVAMzMzMzPzdEBI4XoUroN0QEjhehSus3VAw/UoXI/udUDXo3A9Cv91QHsUrkfhjnVAZmZmZmYudUDD9Shcjxp0QOF6FK5HIXRA7FG4HoWTdEBxPQrXo/x0QFK4HoXrmXRAw/UoXI8adUBcj8L1KPx0QAAAAAAAWHVAAAAAAACQdUAAAAAAAPB0QHsUrkfhFnRAcT0K16P8c0AK16NwPT5zQDMzMzMzT3NA4XoUrkdRc0AzMzMzMyNzQJqZmZmZ+XNAexSuR+EidEDNzMzMzFh0QDMzMzMz53NApHA9CtdLc0AAAAAAAGBzQGZmZmZmrnRApHA9CtebdEBmZmZmZuZ0QMP1KFyPGnRAZmZmZmYydEDNzMzMzIxzQHsUrkfh+nNASOF6FK7bc0AK16NwPT5zQM3MzMzMwHJAzczMzMyYckAAAAAAAJByQFK4HoXrNXJApHA9Ctffc0CuR+F6FIpzQI/C9Shcp3JAZmZmZmb+c0Bcj8L1KEh0QPYoXI/CSXRAMzMzMzNrdUAfhetRuEJ2QHE9CtejeHRAMzMzMzN/dEApXI/C9dRzQD0K16NwYXRAcT0K16O0dEDsUbgehZ9zQOF6FK5HMXRAZmZmZmbmdEDXo3A9Cq9zQI/C9Shc33FA4XoUrketckCkcD0K1yd0QJqZmZmZkXVAmpmZmZmpdUAAAAAAAHh1QLgehetROHZAcT0K16PUdkA9CtejcM12QJqZmZmZtXVAH4XrUbgedUBmZmZmZr50QHsUrkfhhnVAUrgeheu9dUDNzMzMzAR1QKRwPQrXo3VAPQrXo3BFdUAAAAAAAGh1QAAAAAAAAHRApHA9CtcfdECPwvUoXCNyQK5H4XoUenFArkfhehROcUCamZmZmRFxQIXrUbgeyXFAZmZmZmbOcUBcj8L1KIBxQGZmZmZmfnFAAAAAAADYcUA=",
          "dtype": "f8"
         },
         "type": "candlestick",
         "x": [
          "2025-09-19T00:00:00.000000000",
          "2025-09-18T00:00:00.000000000",
          "2025-09-17T00:00:00.000000000",
          "2025-09-16T00:00:00.000000000",
          "2025-09-15T00:00:00.000000000",
          "2025-09-12T00:00:00.000000000",
          "2025-09-11T00:00:00.000000000",
          "2025-09-10T00:00:00.000000000",
          "2025-09-09T00:00:00.000000000",
          "2025-09-08T00:00:00.000000000",
          "2025-09-05T00:00:00.000000000",
          "2025-09-04T00:00:00.000000000",
          "2025-09-03T00:00:00.000000000",
          "2025-09-02T00:00:00.000000000",
          "2025-08-29T00:00:00.000000000",
          "2025-08-28T00:00:00.000000000",
          "2025-08-27T00:00:00.000000000",
          "2025-08-26T00:00:00.000000000",
          "2025-08-25T00:00:00.000000000",
          "2025-08-22T00:00:00.000000000",
          "2025-08-21T00:00:00.000000000",
          "2025-08-20T00:00:00.000000000",
          "2025-08-19T00:00:00.000000000",
          "2025-08-18T00:00:00.000000000",
          "2025-08-15T00:00:00.000000000",
          "2025-08-14T00:00:00.000000000",
          "2025-08-13T00:00:00.000000000",
          "2025-08-12T00:00:00.000000000",
          "2025-08-11T00:00:00.000000000",
          "2025-08-08T00:00:00.000000000",
          "2025-08-07T00:00:00.000000000",
          "2025-08-06T00:00:00.000000000",
          "2025-08-05T00:00:00.000000000",
          "2025-08-04T00:00:00.000000000",
          "2025-08-01T00:00:00.000000000",
          "2025-07-31T00:00:00.000000000",
          "2025-07-30T00:00:00.000000000",
          "2025-07-29T00:00:00.000000000",
          "2025-07-28T00:00:00.000000000",
          "2025-07-25T00:00:00.000000000",
          "2025-07-24T00:00:00.000000000",
          "2025-07-23T00:00:00.000000000",
          "2025-07-22T00:00:00.000000000",
          "2025-07-21T00:00:00.000000000",
          "2025-07-18T00:00:00.000000000",
          "2025-07-17T00:00:00.000000000",
          "2025-07-16T00:00:00.000000000",
          "2025-07-15T00:00:00.000000000",
          "2025-07-14T00:00:00.000000000",
          "2025-07-11T00:00:00.000000000",
          "2025-07-10T00:00:00.000000000",
          "2025-07-09T00:00:00.000000000",
          "2025-07-08T00:00:00.000000000",
          "2025-07-07T00:00:00.000000000",
          "2025-07-03T00:00:00.000000000",
          "2025-07-02T00:00:00.000000000",
          "2025-07-01T00:00:00.000000000",
          "2025-06-30T00:00:00.000000000",
          "2025-06-27T00:00:00.000000000",
          "2025-06-26T00:00:00.000000000",
          "2025-06-25T00:00:00.000000000",
          "2025-06-24T00:00:00.000000000",
          "2025-06-23T00:00:00.000000000",
          "2025-06-20T00:00:00.000000000",
          "2025-06-18T00:00:00.000000000",
          "2025-06-17T00:00:00.000000000",
          "2025-06-16T00:00:00.000000000",
          "2025-06-13T00:00:00.000000000",
          "2025-06-12T00:00:00.000000000",
          "2025-06-11T00:00:00.000000000",
          "2025-06-10T00:00:00.000000000",
          "2025-06-09T00:00:00.000000000",
          "2025-06-06T00:00:00.000000000",
          "2025-06-05T00:00:00.000000000",
          "2025-06-04T00:00:00.000000000",
          "2025-06-03T00:00:00.000000000",
          "2025-06-02T00:00:00.000000000",
          "2025-05-30T00:00:00.000000000",
          "2025-05-29T00:00:00.000000000",
          "2025-05-28T00:00:00.000000000",
          "2025-05-27T00:00:00.000000000",
          "2025-05-23T00:00:00.000000000",
          "2025-05-22T00:00:00.000000000",
          "2025-05-21T00:00:00.000000000",
          "2025-05-20T00:00:00.000000000",
          "2025-05-19T00:00:00.000000000",
          "2025-05-16T00:00:00.000000000",
          "2025-05-15T00:00:00.000000000",
          "2025-05-14T00:00:00.000000000",
          "2025-05-13T00:00:00.000000000",
          "2025-05-12T00:00:00.000000000",
          "2025-05-09T00:00:00.000000000",
          "2025-05-08T00:00:00.000000000",
          "2025-05-07T00:00:00.000000000",
          "2025-05-06T00:00:00.000000000",
          "2025-05-05T00:00:00.000000000",
          "2025-05-02T00:00:00.000000000",
          "2025-05-01T00:00:00.000000000",
          "2025-04-30T00:00:00.000000000",
          "2025-04-29T00:00:00.000000000"
         ]
        }
       ],
       "layout": {
        "height": 800,
        "template": {
         "data": {
          "candlestick": [
           {
            "decreasing": {
             "line": {
              "color": "#000033"
             }
            },
            "increasing": {
             "line": {
              "color": "#000032"
             }
            },
            "type": "candlestick"
           }
          ],
          "contour": [
           {
            "colorscale": [
             [
              0,
              "#000011"
             ],
             [
              0.1111111111111111,
              "#000012"
             ],
             [
              0.2222222222222222,
              "#000013"
             ],
             [
              0.3333333333333333,
              "#000014"
             ],
             [
              0.4444444444444444,
              "#000015"
             ],
             [
              0.5555555555555556,
              "#000016"
             ],
             [
              0.6666666666666666,
              "#000017"
             ],
             [
              0.7777777777777778,
              "#000018"
             ],
             [
              0.8888888888888888,
              "#000019"
             ],
             [
              1,
              "#000020"
             ]
            ],
            "type": "contour"
           }
          ],
          "contourcarpet": [
           {
            "colorscale": [
             [
              0,
              "#000011"
             ],
             [
              0.1111111111111111,
              "#000012"
             ],
             [
              0.2222222222222222,
              "#000013"
             ],
             [
              0.3333333333333333,
              "#000014"
             ],
             [
              0.4444444444444444,
              "#000015"
             ],
             [
              0.5555555555555556,
              "#000016"
             ],
             [
              0.6666666666666666,
              "#000017"
             ],
             [
              0.7777777777777778,
              "#000018"
             ],
             [
              0.8888888888888888,
              "#000019"
             ],
             [
              1,
              "#000020"
             ]
            ],
            "type": "contourcarpet"
           }
          ],
          "heatmap": [
           {
            "colorscale": [
             [
              0,
              "#000011"
             ],
             [
              0.1111111111111111,
              "#000012"
             ],
             [
              0.2222222222222222,
              "#000013"
             ],
             [
              0.3333333333333333,
              "#000014"
             ],
             [
              0.4444444444444444,
              "#000015"
             ],
             [
              0.5555555555555556,
              "#000016"
             ],
             [
              0.6666666666666666,
              "#000017"
             ],
             [
              0.7777777777777778,
              "#000018"
             ],
             [
              0.8888888888888888,
              "#000019"
             ],
             [
              1,
              "#000020"
             ]
            ],
            "type": "heatmap"
           }
          ],
          "histogram2d": [
           {
            "colorscale": [
             [
              0,
              "#000011"
             ],
             [
              0.1111111111111111,
              "#000012"
             ],
             [
              0.2222222222222222,
              "#000013"
             ],
             [
              0.3333333333333333,
              "#000014"
             ],
             [
              0.4444444444444444,
              "#000015"
             ],
             [
              0.5555555555555556,
              "#000016"
             ],
             [
              0.6666666666666666,
              "#000017"
             ],
             [
              0.7777777777777778,
              "#000018"
             ],
             [
              0.8888888888888888,
              "#000019"
             ],
             [
              1,
              "#000020"
             ]
            ],
            "type": "histogram2d"
           }
          ],
          "icicle": [
           {
            "textfont": {
             "color": "white"
            },
            "type": "icicle"
           }
          ],
          "sankey": [
           {
            "textfont": {
             "color": "#000036"
            },
            "type": "sankey"
           }
          ],
          "scatter": [
           {
            "marker": {
             "line": {
              "width": 0
             }
            },
            "type": "scatter"
           }
          ],
          "table": [
           {
            "cells": {
             "fill": {
              "color": "#000038"
             },
             "font": {
              "color": "#000037"
             },
             "line": {
              "color": "#000039"
             }
            },
            "header": {
             "fill": {
              "color": "#000040"
             },
             "font": {
              "color": "#000036"
             },
             "line": {
              "color": "#000039"
             }
            },
            "type": "table"
           }
          ],
          "waterfall": [
           {
            "connector": {
             "line": {
              "color": "#000036",
              "width": 2
             }
            },
            "decreasing": {
             "marker": {
              "color": "#000033"
             }
            },
            "increasing": {
             "marker": {
              "color": "#000032"
             }
            },
            "totals": {
             "marker": {
              "color": "#000034"
             }
            },
            "type": "waterfall"
           }
          ]
         },
         "layout": {
          "coloraxis": {
           "colorscale": [
            [
             0,
             "#000011"
            ],
            [
             0.1111111111111111,
             "#000012"
            ],
            [
             0.2222222222222222,
             "#000013"
            ],
            [
             0.3333333333333333,
             "#000014"
            ],
            [
             0.4444444444444444,
             "#000015"
            ],
            [
             0.5555555555555556,
             "#000016"
            ],
            [
             0.6666666666666666,
             "#000017"
            ],
            [
             0.7777777777777778,
             "#000018"
            ],
            [
             0.8888888888888888,
             "#000019"
            ],
            [
             1,
             "#000020"
            ]
           ]
          },
          "colorscale": {
           "diverging": [
            [
             0,
             "#000021"
            ],
            [
             0.1,
             "#000022"
            ],
            [
             0.2,
             "#000023"
            ],
            [
             0.3,
             "#000024"
            ],
            [
             0.4,
             "#000025"
            ],
            [
             0.5,
             "#000026"
            ],
            [
             0.6,
             "#000027"
            ],
            [
             0.7,
             "#000028"
            ],
            [
             0.8,
             "#000029"
            ],
            [
             0.9,
             "#000030"
            ],
            [
             1,
             "#000031"
            ]
           ],
           "sequential": [
            [
             0,
             "#000011"
            ],
            [
             0.1111111111111111,
             "#000012"
            ],
            [
             0.2222222222222222,
             "#000013"
            ],
            [
             0.3333333333333333,
             "#000014"
            ],
            [
             0.4444444444444444,
             "#000015"
            ],
            [
             0.5555555555555556,
             "#000016"
            ],
            [
             0.6666666666666666,
             "#000017"
            ],
            [
             0.7777777777777778,
             "#000018"
            ],
            [
             0.8888888888888888,
             "#000019"
            ],
            [
             1,
             "#000020"
            ]
           ],
           "sequentialminus": [
            [
             0,
             "#000011"
            ],
            [
             0.1111111111111111,
             "#000012"
            ],
            [
             0.2222222222222222,
             "#000013"
            ],
            [
             0.3333333333333333,
             "#000014"
            ],
            [
             0.4444444444444444,
             "#000015"
            ],
            [
             0.5555555555555556,
             "#000016"
            ],
            [
             0.6666666666666666,
             "#000017"
            ],
            [
             0.7777777777777778,
             "#000018"
            ],
            [
             0.8888888888888888,
             "#000019"
            ],
            [
             1,
             "#000020"
            ]
           ]
          },
          "colorway": [
           "#000001",
           "#000002",
           "#000003",
           "#000004",
           "#000005",
           "#000006",
           "#000007",
           "#000008",
           "#000009",
           "#000010"
          ]
         }
        },
        "width": 1200
       }
      }
     },
     "metadata": {},
     "output_type": "display_data"
    }
   ],
   "source": [
    "client.get_candlestick_chart(df_tsla)"
   ]
  },
  {
   "cell_type": "code",
   "execution_count": null,
   "id": "de2fb4d7",
   "metadata": {},
   "outputs": [],
   "source": []
  }
 ],
 "metadata": {
  "kernelspec": {
   "display_name": "API_Project",
   "language": "python",
   "name": "python3"
  },
  "language_info": {
   "codemirror_mode": {
    "name": "ipython",
    "version": 3
   },
   "file_extension": ".py",
   "mimetype": "text/x-python",
   "name": "python",
   "nbconvert_exporter": "python",
   "pygments_lexer": "ipython3",
   "version": "3.13.3"
  }
 },
 "nbformat": 4,
 "nbformat_minor": 5
}
